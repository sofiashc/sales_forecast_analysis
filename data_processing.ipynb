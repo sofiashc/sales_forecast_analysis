{
 "cells": [
  {
   "cell_type": "markdown",
   "id": "af30cf18b125b490",
   "metadata": {},
   "source": [
    "# Sales and Forecast Data Analysis Project\n",
    "Author: Sofia Shchetinina"
   ]
  },
  {
   "cell_type": "markdown",
   "id": "d0a0b7b4426686db",
   "metadata": {},
   "source": [
    "## 1. Project Overview\n",
    "\n",
    "This project involves the cleaning, processing, and analysis of sales and forecast data from different regions (Americas, EMEA, Asia).\n",
    "The goal is to load, transform and consolidate this data into a unified database for easier querying while ensuring data quality and integrity.\n",
    "\n",
    "The data is sourced from multiple CSV and Excel files provided by business teams, so, data inconsistencies are expected. The final output is stored in an SQLite database, ready for further analysis, and used for creation of interactive dashboard in Tableau.\n"
   ]
  },
  {
   "cell_type": "markdown",
   "id": "c095067a896118bd",
   "metadata": {},
   "source": [
    "## 2. Exploratory Data Analysis"
   ]
  },
  {
   "cell_type": "code",
   "execution_count": 31,
   "id": "initial_id",
   "metadata": {
    "ExecuteTime": {
     "end_time": "2024-09-03T07:19:32.112452Z",
     "start_time": "2024-09-03T07:19:31.888932Z"
    }
   },
   "outputs": [],
   "source": [
    "import pandas as pd\n",
    "\n",
    "import warnings\n",
    "\n",
    "with warnings.catch_warnings():\n",
    "    warnings.simplefilter('ignore')"
   ]
  },
  {
   "cell_type": "code",
   "execution_count": null,
   "id": "ad3c1f166c9e35cd",
   "metadata": {
    "ExecuteTime": {
     "end_time": "2024-09-03T07:19:31.718398600Z",
     "start_time": "2024-09-02T20:17:49.983826Z"
    }
   },
   "outputs": [],
   "source": [
    "# Load the data from csv sources\n",
    "americas_data = pd.read_csv('data/americas.csv')\n",
    "emea_data = pd.read_csv('data/emea.csv')\n",
    "forecast_data = pd.read_csv('data/forecast.csv')"
   ]
  },
  {
   "cell_type": "code",
   "execution_count": null,
   "id": "ba0466b08ae81380",
   "metadata": {
    "ExecuteTime": {
     "end_time": "2024-09-03T07:19:31.731397600Z",
     "start_time": "2024-09-02T20:17:50.640195Z"
    }
   },
   "outputs": [],
   "source": [
    "# Load the data from Excel ensuring the possibility of adding new sheets\n",
    "asia_sheets_dict = pd.read_excel('data/asia.xlsx', sheet_name=None)\n",
    "\n",
    "# Standardize column names for different sheets\n",
    "def standardize_columns(df):\n",
    "    df.columns = df.columns.str.lower()  # Convert all column names to lowercase\n",
    "    return df\n",
    "# Apply function to all sheets\n",
    "asia_sheets_dict = {sheet_name: standardize_columns(df) for sheet_name, df in asia_sheets_dict.items()}\n",
    "# Combine the sheets into one dataframe\n",
    "asia_data = pd.concat(asia_sheets_dict.values(), ignore_index=True)"
   ]
  },
  {
   "cell_type": "code",
   "execution_count": null,
   "id": "0069f678-8ad9-4e37-8aa6-520ab29fbaa4",
   "metadata": {},
   "outputs": [],
   "source": [
    "# Standardize columns for other dataframes\n",
    "americas_data = standardize_columns(americas_data)\n",
    "emea_data = standardize_columns(emea_data)\n",
    "forecast_data = standardize_columns(forecast_data)"
   ]
  },
  {
   "cell_type": "markdown",
   "id": "0f866c0a-6e2f-44ba-90d6-b891e75448ab",
   "metadata": {},
   "source": [
    "Quick overview of the data in all dataframes"
   ]
  },
  {
   "cell_type": "code",
   "execution_count": null,
   "id": "24805d0df34620ce",
   "metadata": {
    "ExecuteTime": {
     "end_time": "2024-09-03T07:19:31.733399600Z",
     "start_time": "2024-09-02T20:17:55.191344Z"
    }
   },
   "outputs": [],
   "source": [
    "print('Americas Data:')\n",
    "print(americas_data.head(), '\\n')\n",
    "\n",
    "print('EMEA Data:')\n",
    "print(emea_data.head(), '\\n')\n",
    "\n",
    "print('Asia Data:')\n",
    "print(asia_data.head(), '\\n')\n",
    "\n",
    "print('Forecast Data:')\n",
    "print(forecast_data.head(), '\\n')"
   ]
  },
  {
   "cell_type": "markdown",
   "id": "399891c794731450",
   "metadata": {},
   "source": [
    "- Irrelevant columns detected: 'unnamed: 0' in americas_data, emea_data, forecast_data; 'sales_tcfxact' in americas_data\n",
    "- Format inconsistencies in 'period' column: only year / year and month. Forecast is made for the year\n",
    "- Potential naming inconsistencies in 'commercial_country_name'"
   ]
  },
  {
   "cell_type": "markdown",
   "id": "48b5eb20-1699-4666-b9cb-56113c40b91c",
   "metadata": {},
   "source": [
    "## 3. Data Cleaning"
   ]
  },
  {
   "cell_type": "code",
   "execution_count": null,
   "id": "f51a13ce1efdbf53",
   "metadata": {
    "ExecuteTime": {
     "end_time": "2024-09-03T07:19:31.735397600Z",
     "start_time": "2024-09-02T20:17:55.318912Z"
    }
   },
   "outputs": [],
   "source": [
    "# Drop extra columns\n",
    "americas_data = americas_data.drop(columns=['unnamed: 0', 'sales_tcfxact'], errors='ignore')\n",
    "emea_data = emea_data.drop(columns=['unnamed: 0', 'sales_tc_fxact'], errors='ignore')\n",
    "asia_data = asia_data.drop(columns=['unnamed: 0'], errors='ignore')\n",
    "forecast_data = forecast_data.drop(columns=['unnamed: 0'], errors='ignore')"
   ]
  },
  {
   "cell_type": "code",
   "execution_count": null,
   "id": "7f7803197e26726c",
   "metadata": {
    "ExecuteTime": {
     "end_time": "2024-09-03T07:19:31.736401200Z",
     "start_time": "2024-09-02T20:17:55.698032Z"
    }
   },
   "outputs": [],
   "source": [
    "# Check for duplicates\n",
    "print('Duplicates in Americas data:', americas_data.duplicated().sum())\n",
    "print('Duplicates in EMEA data:', emea_data.duplicated().sum())\n",
    "print('Duplicates in Asia data:', asia_data.duplicated().sum())\n",
    "print('Duplicates in Forecast data:', forecast_data.duplicated().sum())"
   ]
  },
  {
   "cell_type": "code",
   "execution_count": null,
   "id": "3b5916a7ae7e4d3b",
   "metadata": {
    "ExecuteTime": {
     "end_time": "2024-09-03T07:19:31.748396100Z",
     "start_time": "2024-09-02T20:17:55.965152Z"
    }
   },
   "outputs": [],
   "source": [
    "# Add 'region' column and fill it with the name of the file\n",
    "americas_data['region'] = 'Americas'\n",
    "emea_data['region'] = 'EMEA'\n",
    "asia_data['region'] = 'Asia'"
   ]
  },
  {
   "cell_type": "code",
   "execution_count": null,
   "id": "fed6f4d39c131eb6",
   "metadata": {
    "ExecuteTime": {
     "end_time": "2024-09-03T07:19:31.749395400Z",
     "start_time": "2024-09-02T20:17:56.075151Z"
    }
   },
   "outputs": [],
   "source": [
    "# Check the data types and missing values\n",
    "americas_data.info()"
   ]
  },
  {
   "cell_type": "markdown",
   "id": "82abcb15-a740-43db-84b9-37da4d8f9ee1",
   "metadata": {},
   "source": [
    "Missing values detected in 'material_nbr', column 'period' is not in date format, which is not optimal"
   ]
  },
  {
   "cell_type": "code",
   "execution_count": null,
   "id": "162994b4-516b-4d08-a791-4e73f10da66e",
   "metadata": {},
   "outputs": [],
   "source": [
    "emea_data.info()"
   ]
  },
  {
   "cell_type": "markdown",
   "id": "b6eef82a-2d0a-4ded-9d7c-b418dd693863",
   "metadata": {},
   "source": [
    "Missing values in 'material_nbr', column 'period' is not in date format"
   ]
  },
  {
   "cell_type": "code",
   "execution_count": null,
   "id": "87f6ce75-f622-42e1-a72f-2a64bba29d48",
   "metadata": {},
   "outputs": [],
   "source": [
    "asia_data.info()"
   ]
  },
  {
   "cell_type": "markdown",
   "id": "c0850564-f9a7-472a-b8cd-26dfb3918adb",
   "metadata": {},
   "source": [
    "Missing values in 'material_nbr', column 'period' is not in date format"
   ]
  },
  {
   "cell_type": "code",
   "execution_count": null,
   "id": "15e7ad57-10ec-49e5-9a5c-04978450d527",
   "metadata": {},
   "outputs": [],
   "source": [
    "forecast_data.info()"
   ]
  },
  {
   "cell_type": "markdown",
   "id": "806c66ef-4e2c-4c5e-af0b-01c00282dd49",
   "metadata": {},
   "source": [
    "Missing values in 'commercial_segment', 'sku_cd' detected. These columns don't match with sales data, therefore they can't be used in the analysis."
   ]
  },
  {
   "cell_type": "code",
   "execution_count": null,
   "id": "4da46e91-fa99-4bfb-8404-3e0c631615e5",
   "metadata": {},
   "outputs": [],
   "source": [
    "# Drop extra columns with missing values\n",
    "forecast_data = forecast_data.drop(columns=['commercial_segment', 'sku_cd'], errors='ignore')"
   ]
  },
  {
   "cell_type": "code",
   "execution_count": null,
   "id": "a1290a5feea83b12",
   "metadata": {
    "ExecuteTime": {
     "end_time": "2024-09-03T07:19:31.753397400Z",
     "start_time": "2024-09-02T20:17:56.359153Z"
    }
   },
   "outputs": [],
   "source": [
    "# Evaluate the share of missing values\n",
    "americas_missing = americas_data['material_nbr'].isnull().mean() * 100\n",
    "emea_missing = emea_data['material_nbr'].isnull().mean() * 100\n",
    "asia_missing = asia_data['material_nbr'].isnull().mean() * 100\n",
    "\n",
    "print(f\"Missing 'material_nbr' in Americas: {americas_missing:.2f}%\")\n",
    "print(f\"Missing 'material_nbr' in EMEA: {emea_missing:.2f}%\")\n",
    "print(f\"Missing 'material_nbr' in Asia: {asia_missing:.2f}%\")"
   ]
  },
  {
   "cell_type": "markdown",
   "id": "d6ebd9618def71a2",
   "metadata": {},
   "source": [
    "This column is essential for the correct join of sales and forecast, additional checks are needed to figure out if there are any regularities about these rows."
   ]
  },
  {
   "cell_type": "code",
   "execution_count": null,
   "id": "cc1cd27b9c388420",
   "metadata": {
    "ExecuteTime": {
     "end_time": "2024-09-03T07:19:31.754399300Z",
     "start_time": "2024-09-02T20:17:56.455153Z"
    }
   },
   "outputs": [],
   "source": [
    "# Look at the rows where material_number is missing for EMEA region\n",
    "missing_material_rows = emea_data[emea_data['material_nbr'].isnull()]\n",
    "missing_material_rows.head(20)"
   ]
  },
  {
   "cell_type": "markdown",
   "id": "8aa80931e83fd3d4",
   "metadata": {},
   "source": [
    "Rows with missing values seem random and probably are caused by human error. I'll remove them because it'll be more robust to keep the column in integer format, and do not overcomplicate it with placeholders."
   ]
  },
  {
   "cell_type": "code",
   "execution_count": null,
   "id": "5c07ea598807c6e1",
   "metadata": {
    "ExecuteTime": {
     "end_time": "2024-09-03T07:19:31.755397700Z",
     "start_time": "2024-09-02T20:17:56.677092Z"
    }
   },
   "outputs": [],
   "source": [
    "# Remove rows with missing material_number in all regions\n",
    "americas_data = americas_data.dropna(subset=['material_nbr'])\n",
    "emea_data = emea_data.dropna(subset=['material_nbr'])\n",
    "asia_data = asia_data.dropna(subset=['material_nbr'])"
   ]
  },
  {
   "cell_type": "code",
   "execution_count": null,
   "id": "d4bbba9e6f9c982a",
   "metadata": {
    "ExecuteTime": {
     "end_time": "2024-09-03T07:19:31.756397400Z",
     "start_time": "2024-09-02T20:17:56.784754Z"
    }
   },
   "outputs": [],
   "source": [
    "# Convert material_number to integer after dropping missing rows\n",
    "americas_data['material_nbr'] = americas_data['material_nbr'].astype(int)\n",
    "emea_data['material_nbr'] = emea_data['material_nbr'].astype(int)\n",
    "asia_data['material_nbr'] = asia_data['material_nbr'].astype(int)"
   ]
  },
  {
   "cell_type": "markdown",
   "id": "e9651b94-52c6-4309-a521-b05930c769e2",
   "metadata": {},
   "source": [
    "Check the data for consistency"
   ]
  },
  {
   "cell_type": "code",
   "execution_count": null,
   "id": "2d5256689173ccd6",
   "metadata": {
    "ExecuteTime": {
     "end_time": "2024-09-03T07:19:31.757397400Z",
     "start_time": "2024-09-02T20:17:56.897752Z"
    }
   },
   "outputs": [],
   "source": [
    "# Check the date formats in 'Period'\n",
    "print('Unique period values in Americas Data:')\n",
    "print(americas_data['period'].unique())\n",
    "\n",
    "print('\\nUnique period values in EMEA Data:')\n",
    "print(emea_data['period'].unique())\n",
    "\n",
    "print('\\nUnique period values in Asia Data:')\n",
    "print(asia_data['period'].unique())\n",
    "\n",
    "print('\\nUnique period values in Forecast Data:')\n",
    "print(forecast_data['year'].unique())"
   ]
  },
  {
   "cell_type": "code",
   "execution_count": null,
   "id": "c05def5cd4d0ac01",
   "metadata": {
    "ExecuteTime": {
     "end_time": "2024-09-03T07:19:31.758397700Z",
     "start_time": "2024-09-02T20:17:57.057768Z"
    }
   },
   "outputs": [],
   "source": [
    "# Fix date format\n",
    "americas_data['period'] = americas_data['period'].astype(str) + '.01'\n",
    "emea_data['period'] = emea_data['period'].apply(lambda x: f\"{str(x).split('.')[0]}.{str(x).split('.')[1].zfill(2)}\")\n",
    "asia_data['period'] = asia_data['period'].apply(lambda x: f\"{str(x).split('.')[0]}.{str(x).split('.')[1].zfill(2)}\")\n",
    "forecast_data['year'] = forecast_data['year'].astype(str) + '.01'\n",
    "\n",
    "# Check the date formats in 'Period'\n",
    "print('Unique period values in Americas Data:')\n",
    "print(americas_data['period'].unique())\n",
    "\n",
    "print('\\nUnique period values in EMEA Data:')\n",
    "print(emea_data['period'].unique())\n",
    "\n",
    "print('\\nUnique period values in Asia Data:')\n",
    "print(asia_data['period'].unique())\n",
    "\n",
    "print('\\nUnique period values in Forecast Data:')\n",
    "print(forecast_data['year'].unique())"
   ]
  },
  {
   "cell_type": "code",
   "execution_count": null,
   "id": "18ff741e34d8fade",
   "metadata": {
    "ExecuteTime": {
     "end_time": "2024-09-03T07:19:31.759397700Z",
     "start_time": "2024-09-02T20:17:57.195768Z"
    }
   },
   "outputs": [],
   "source": [
    "# Convert to datetime format and check\n",
    "americas_data['period'] = pd.to_datetime(americas_data['period'], format='%Y.%m')\n",
    "print('Americas data:', americas_data['period'])\n",
    "\n",
    "emea_data['period'] = pd.to_datetime(emea_data['period'], format='%Y.%m')\n",
    "print('EMEA data:', emea_data['period'])\n",
    "\n",
    "asia_data['period'] = pd.to_datetime(asia_data['period'], format='%Y.%m')\n",
    "print('Asia data:', asia_data['period'])\n",
    "\n",
    "forecast_data['year'] = pd.to_datetime(forecast_data['year'], format='%Y.%m')\n",
    "print('Forecast data:', forecast_data['year'])"
   ]
  },
  {
   "cell_type": "code",
   "execution_count": null,
   "id": "dd7a147ed6e8fb41",
   "metadata": {
    "ExecuteTime": {
     "end_time": "2024-09-03T07:19:31.760399700Z",
     "start_time": "2024-09-02T20:17:57.323768Z"
    }
   },
   "outputs": [],
   "source": [
    "# Check the country names for consistency\n",
    "print('Unique country names in Americas Data:')\n",
    "print(sorted(americas_data['commercial_country_name'].unique()))\n",
    "\n",
    "print('\\nUnique country names in EMEA Data:')\n",
    "print(sorted(emea_data['commercial_country_name'].unique()))\n",
    "\n",
    "print('\\nUnique country names in Asia Data:')\n",
    "print(sorted(asia_data['commercial_country_name'].unique()))\n",
    "\n",
    "print('\\nUnique country names in Forecast Data:')\n",
    "print(sorted(forecast_data['cmrcl_cntry_dsc'].unique()))"
   ]
  },
  {
   "cell_type": "code",
   "execution_count": null,
   "id": "13df964f-682e-4cc9-8b75-f4ee44b3e131",
   "metadata": {},
   "outputs": [],
   "source": [
    "# Map differently spelled values\n",
    "country_name_mapping = {\n",
    "    'Canadá': 'Canada',\n",
    "    'México': 'Mexico',\n",
    "    'Brasil': 'Brazil',\n",
    "    'UK': 'United Kingdom',\n",
    "    'U.S.A': 'United States',\n",
    "    'Estados Unidos': 'United States',\n",
    "    'España': 'Spain',\n",
    "    'Türkiye': 'Turkey'\n",
    "}\n",
    "\n",
    "americas_data['commercial_country_name'] = americas_data['commercial_country_name'].replace(country_name_mapping)\n",
    "emea_data['commercial_country_name'] = emea_data['commercial_country_name'].replace(country_name_mapping)\n",
    "asia_data['commercial_country_name'] = asia_data['commercial_country_name'].replace(country_name_mapping)\n",
    "forecast_data['cmrcl_cntry_dsc'] = forecast_data['cmrcl_cntry_dsc'].replace(country_name_mapping)"
   ]
  },
  {
   "cell_type": "code",
   "execution_count": null,
   "id": "8856c51c-8c63-4409-9f54-0ded3e82bf46",
   "metadata": {},
   "outputs": [],
   "source": [
    "# Check crop field for consistency\n",
    "print('Unique crop names in Americas Data:')\n",
    "print(sorted(americas_data['crop'].unique()))\n",
    "\n",
    "print('\\nUnique crop names in EMEA Data:')\n",
    "print(sorted(emea_data['crop'].unique()))\n",
    "\n",
    "print('\\nUnique crop names in Asia Data:')\n",
    "print(sorted(asia_data['crop'].unique()))"
   ]
  },
  {
   "cell_type": "markdown",
   "id": "87d520b6-b912-4651-9a11-32e24076f0da",
   "metadata": {},
   "source": [
    "Crop names are consistent"
   ]
  },
  {
   "cell_type": "code",
   "execution_count": null,
   "id": "72c982c1ec16bf0e",
   "metadata": {
    "ExecuteTime": {
     "end_time": "2024-09-03T07:19:31.763399600Z",
     "start_time": "2024-09-02T20:17:57.447771Z"
    }
   },
   "outputs": [],
   "source": [
    "# Combine all region's sales into one dataframe\n",
    "combined_sales = pd.concat([americas_data, emea_data, asia_data], axis=0, ignore_index=True)\n",
    "print('Combined sales data:', combined_sales.head())"
   ]
  },
  {
   "cell_type": "markdown",
   "id": "9e7d37c7-152f-44b8-af40-a4a4a7b4f82d",
   "metadata": {},
   "source": [
    "## 4. Data Quality and Integrity Checks"
   ]
  },
  {
   "cell_type": "code",
   "execution_count": null,
   "id": "3e6b3464f543a32e",
   "metadata": {
    "ExecuteTime": {
     "end_time": "2024-09-03T07:19:31.763399600Z",
     "start_time": "2024-09-02T20:17:57.796023Z"
    }
   },
   "outputs": [],
   "source": [
    "# Overview for missing values and data types in combined sales\n",
    "combined_sales.info()"
   ]
  },
  {
   "cell_type": "markdown",
   "id": "d7b45794-d797-4f2d-a307-3280765a3115",
   "metadata": {},
   "source": [
    "- Missing values - not found\n",
    "- Data types - correct"
   ]
  },
  {
   "cell_type": "code",
   "execution_count": null,
   "id": "e9976246-4aa3-4634-a1cd-9e65ac2890f4",
   "metadata": {},
   "outputs": [],
   "source": [
    "# Overview for missing values and data types in forecast data\n",
    "forecast_data.info()"
   ]
  },
  {
   "cell_type": "markdown",
   "id": "0d1ac8cd-3765-452c-bd84-5cecf8757ac9",
   "metadata": {},
   "source": [
    "- Missing values - not found\n",
    "- Data types - correct"
   ]
  },
  {
   "cell_type": "code",
   "execution_count": null,
   "id": "7c8dcb4ecf972166",
   "metadata": {
    "ExecuteTime": {
     "end_time": "2024-09-03T07:19:31.765400100Z",
     "start_time": "2024-09-02T20:17:57.642008Z"
    }
   },
   "outputs": [],
   "source": [
    "# Check combined sales for duplicates\n",
    "duplicates = combined_sales.duplicated().sum()\n",
    "print(f\"Duplicate rows in combined sales data: {duplicates}\")"
   ]
  },
  {
   "cell_type": "code",
   "execution_count": null,
   "id": "de7e6098-185e-4fd0-b0b6-c6506b40e8b5",
   "metadata": {},
   "outputs": [],
   "source": [
    "# Check forecast data for duplicates\n",
    "duplicates = forecast_data.duplicated().sum()\n",
    "print(f\"Duplicate rows in forecast data: {duplicates}\")"
   ]
  },
  {
   "cell_type": "code",
   "execution_count": null,
   "id": "7c0f3b79-40a3-42d4-b515-ab1c1b390685",
   "metadata": {},
   "outputs": [],
   "source": [
    "# Check the country names in forecast data for consistency\n",
    "print('Unique country names in forecast data data:')\n",
    "print(sorted(forecast_data['cmrcl_cntry_dsc'].unique()))"
   ]
  },
  {
   "cell_type": "code",
   "execution_count": null,
   "id": "b6cb8dcd-8eb6-45bd-b212-406218b3cb1b",
   "metadata": {},
   "outputs": [],
   "source": [
    "# Check the country names in forecast date for consistency\n",
    "print('Unique country names in combined sales data:')\n",
    "print(sorted(combined_sales['commercial_country_name'].unique()))"
   ]
  },
  {
   "cell_type": "markdown",
   "id": "83efe9fb-7444-4774-8468-896f55133e1d",
   "metadata": {},
   "source": [
    "Date format was checked previously"
   ]
  },
  {
   "cell_type": "markdown",
   "id": "adec9f9bec284564",
   "metadata": {},
   "source": [
    "## 5. Database Schema"
   ]
  },
  {
   "cell_type": "markdown",
   "id": "0b384582-7661-4c70-a624-ac6a018a75d8",
   "metadata": {},
   "source": "Logical DB schema is pictured below"
  },
  {
   "cell_type": "markdown",
   "id": "22d7ed23-67d3-4beb-8fd8-256b62f21965",
   "metadata": {},
   "source": [
    "![Sales and Forecast Data Schema](./sales_forecast.drawio.png)"
   ]
  },
  {
   "cell_type": "markdown",
   "id": "36579072056bb60c",
   "metadata": {},
   "source": [
    "Create a database and load sales and forecast data into it. For simplicity I didn't include all sales columns in the diagram, only the most importnant once. Also, tables don't have primary keys, but I put there columns that I use to create a composite primary key for join."
   ]
  },
  {
   "cell_type": "code",
   "execution_count": null,
   "id": "f4e9c40a9921e7e4",
   "metadata": {
    "ExecuteTime": {
     "end_time": "2024-09-03T07:19:31.768397800Z",
     "start_time": "2024-09-02T20:17:57.924020Z"
    }
   },
   "outputs": [],
   "source": [
    "import sqlite3"
   ]
  },
  {
   "cell_type": "code",
   "execution_count": null,
   "id": "3f8629edb4b0d416",
   "metadata": {
    "ExecuteTime": {
     "end_time": "2024-09-03T07:19:31.769398200Z",
     "start_time": "2024-09-02T20:17:58.034754Z"
    }
   },
   "outputs": [],
   "source": [
    "# Create a connection to the SQLite database\n",
    "conn = sqlite3.connect('sales_forecast.db')\n",
    "\n",
    "# Create a cursor object\n",
    "cursor = conn.cursor()"
   ]
  },
  {
   "cell_type": "code",
   "execution_count": null,
   "id": "5fa0a6ffdb68f710",
   "metadata": {
    "ExecuteTime": {
     "end_time": "2024-09-03T07:19:31.770399200Z",
     "start_time": "2024-09-02T20:17:58.272037Z"
    }
   },
   "outputs": [],
   "source": [
    "combined_sales.to_sql('combined_sales', conn, if_exists='replace', index=False)\n",
    "\n",
    "forecast_data.to_sql('forecast_data', conn, if_exists='replace', index=False)"
   ]
  },
  {
   "cell_type": "code",
   "execution_count": null,
   "id": "ca9874ba43d14031",
   "metadata": {
    "ExecuteTime": {
     "end_time": "2024-09-03T07:19:31.773395900Z",
     "start_time": "2024-09-02T20:17:59.042553Z"
    }
   },
   "outputs": [],
   "source": [
    "query = \"\"\"\n",
    "SELECT \n",
    "    date(cs.period) AS period,\n",
    "    cs.material_nbr AS material_number,\n",
    "    cs.commercial_country_name AS country,\n",
    "    cs.net_sales,\n",
    "    cs.gross_sales,\n",
    "    cs.base_sales,\n",
    "    cs.surcharge,\n",
    "    cs.discount,\n",
    "    cs.net_qty,\n",
    "    cs.commercial_team,\n",
    "    cs.company_code,\n",
    "    cs.commercial_team_description,\n",
    "    cs.crop,\n",
    "    cs.region,\n",
    "    cs.region_description,\n",
    "    fd.forecast_val AS forecasted_sales\n",
    "FROM \n",
    "    combined_sales cs\n",
    "LEFT JOIN \n",
    "    forecast_data fd \n",
    "ON \n",
    "    cs.material_nbr = fd.material_number\n",
    "    AND strftime('%Y', cs.period) = fd.year\n",
    "    AND cs.commercial_country_name = fd.cmrcl_cntry_dsc\n",
    "\"\"\""
   ]
  },
  {
   "cell_type": "code",
   "execution_count": null,
   "id": "6ca69f17-b1c3-4bad-ac49-29cba0a39c63",
   "metadata": {
    "ExecuteTime": {
     "end_time": "2024-09-03T07:19:31.774398300Z",
     "start_time": "2024-09-02T20:17:59.042553Z"
    }
   },
   "outputs": [],
   "source": [
    "query = \"\"\"\n",
    "SELECT \n",
    "    date(cs.period) AS period,\n",
    "    cs.material_nbr AS material_number,\n",
    "    cs.commercial_country_name AS country,\n",
    "    cs.net_sales,\n",
    "    cs.gross_sales,\n",
    "    cs.base_sales,\n",
    "    cs.surcharge,\n",
    "    cs.discount,\n",
    "    cs.net_qty,\n",
    "    cs.commercial_team,\n",
    "    cs.company_code,\n",
    "    cs.commercial_team_description,\n",
    "    cs.crop,\n",
    "    cs.region,\n",
    "    cs.region_description,\n",
    "    fd.forecast_val AS forecasted_sales\n",
    "FROM \n",
    "    combined_sales cs\n",
    "LEFT JOIN \n",
    "    forecast_data fd \n",
    "ON \n",
    "    cs.material_nbr = fd.material_number\n",
    "    AND strftime('%Y', cs.period) = strftime('%Y', fd.year)\n",
    "    AND cs.commercial_country_name = fd.cmrcl_cntry_dsc\n",
    "\"\"\""
   ]
  },
  {
   "cell_type": "code",
   "execution_count": null,
   "id": "7af427ede14d8b1a",
   "metadata": {
    "ExecuteTime": {
     "end_time": "2024-09-03T07:19:31.775405300Z",
     "start_time": "2024-09-02T20:17:59.156348Z"
    }
   },
   "outputs": [],
   "source": [
    "pd.read_sql_query(query, conn).to_csv('sales_forecast.csv', index=False)"
   ]
  },
  {
   "cell_type": "code",
   "execution_count": null,
   "id": "4c2934fcb5fd1814",
   "metadata": {
    "ExecuteTime": {
     "end_time": "2024-09-03T07:19:31.776400100Z",
     "start_time": "2024-09-02T20:17:59.973060Z"
    }
   },
   "outputs": [],
   "source": [
    "conn.commit()\n",
    "conn.close()"
   ]
  },
  {
   "cell_type": "markdown",
   "id": "8563c785-41c6-4299-a31c-64fe930e7ac2",
   "metadata": {
    "ExecuteTime": {
     "end_time": "2024-09-02T20:18:00.224515Z",
     "start_time": "2024-09-02T20:18:00.210516Z"
    }
   },
   "source": [
    "## 5. Known issues and potential improvements\n",
    "- In americas_data and forecast_data, I converted years to full dates, which might be misleading in the context of the analysis\n",
    "- Approximately 3.5% of Net Sales were lost due to the removal of rows with missing material numbers. While these rows could be further investigated using plots, the most effective solution would be to address this issue at the data source\n",
    "- Implementing a proper ETL  process with distinct layers for raw data, cleaned and transformed data, and a curated datamart would be beneficial. For this project, I performed transformations upfront for simplicity, but using a star schema with separate dimension tables would be a good approache to reduce redundancy\n",
    "- To improve sustainability, instead of cleaning country names in the sales data, it's better to use country codes and store names and additional information in a separate table\n",
    "- Column naming across all tables could be improved for better clarity and consistency\n",
    "- Some numerical columns, like commercial_sales_territory_code, could be converted from float64 to integers for better performance"
   ]
  },
  {
   "cell_type": "code",
   "execution_count": null,
   "id": "ad449bd5-fbf3-4613-94f6-680a2e2430c5",
   "metadata": {},
   "outputs": [],
   "source": []
  }
 ],
 "metadata": {
  "kernelspec": {
   "display_name": "Python 3 (ipykernel)",
   "language": "python",
   "name": "python3"
  },
  "language_info": {
   "codemirror_mode": {
    "name": "ipython",
    "version": 3
   },
   "file_extension": ".py",
   "mimetype": "text/x-python",
   "name": "python",
   "nbconvert_exporter": "python",
   "pygments_lexer": "ipython3",
   "version": "3.9.5"
  }
 },
 "nbformat": 4,
 "nbformat_minor": 5
}
