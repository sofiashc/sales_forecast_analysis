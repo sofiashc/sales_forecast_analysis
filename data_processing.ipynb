{
 "cells": [
  {
   "cell_type": "markdown",
   "id": "af30cf18b125b490",
   "metadata": {},
   "source": [
    "# Sales and Forecast Data Analysis Project\n",
    "Author: Sofia Shchetinina"
   ]
  },
  {
   "cell_type": "markdown",
   "id": "d0a0b7b4426686db",
   "metadata": {},
   "source": [
    "## 1. Project Overview\n",
    "\n",
    "This project involves the cleaning, processing, and analysis of sales and forecast data from different regions (Americas, EMEA, Asia).\n",
    "The goal is to load, transform and consolidate this data into a unified database for easier querying while ensuring data quality and integrity.\n",
    "\n",
    "The data is sourced from multiple CSV and Excel files provided by business teams, so, data inconsistencies are expected. The final output is stored in an SQLite database, ready for further analysis, and used for creation of interactive dashboard in Tableau.\n"
   ]
  },
  {
   "cell_type": "markdown",
   "id": "c095067a896118bd",
   "metadata": {},
   "source": [
    "## 2. Exploratory Data Analysis"
   ]
  },
  {
   "cell_type": "code",
   "id": "initial_id",
   "metadata": {
    "ExecuteTime": {
     "end_time": "2024-09-05T11:02:16.223777Z",
     "start_time": "2024-09-05T11:02:16.211179Z"
    }
   },
   "source": [
    "import pandas as pd\n",
    "\n",
    "import warnings\n",
    "\n",
    "with warnings.catch_warnings():\n",
    "    warnings.simplefilter('ignore')"
   ],
   "outputs": [],
   "execution_count": 639
  },
  {
   "cell_type": "code",
   "id": "ad3c1f166c9e35cd",
   "metadata": {
    "ExecuteTime": {
     "end_time": "2024-09-05T11:02:16.476410Z",
     "start_time": "2024-09-05T11:02:16.256338Z"
    }
   },
   "source": [
    "# Load the data from csv sources\n",
    "americas_data = pd.read_csv('data/americas.csv')\n",
    "emea_data = pd.read_csv('data/emea.csv')\n",
    "forecast_data = pd.read_csv('data/forecast.csv')"
   ],
   "outputs": [],
   "execution_count": 640
  },
  {
   "cell_type": "code",
   "id": "ba0466b08ae81380",
   "metadata": {
    "ExecuteTime": {
     "end_time": "2024-09-05T11:02:19.021206Z",
     "start_time": "2024-09-05T11:02:16.590429Z"
    }
   },
   "source": [
    "# Load the data from Excel ensuring the possibility of adding new sheets\n",
    "asia_sheets_dict = pd.read_excel('data/asia.xlsx', sheet_name=None)\n",
    "\n",
    "# Standardize column names for different sheets\n",
    "def standardize_columns(df):\n",
    "    df.columns = df.columns.str.lower()  # Convert all column names to lowercase\n",
    "    return df\n",
    "# Apply function to all sheets\n",
    "asia_sheets_dict = {sheet_name: standardize_columns(df) for sheet_name, df in asia_sheets_dict.items()}\n",
    "# Combine the sheets into one dataframe\n",
    "asia_data = pd.concat(asia_sheets_dict.values(), ignore_index=True)"
   ],
   "outputs": [],
   "execution_count": 641
  },
  {
   "cell_type": "code",
   "id": "0069f678-8ad9-4e37-8aa6-520ab29fbaa4",
   "metadata": {
    "ExecuteTime": {
     "end_time": "2024-09-05T11:02:19.130575Z",
     "start_time": "2024-09-05T11:02:19.118344Z"
    }
   },
   "source": [
    "# Standardize columns for other dataframes\n",
    "americas_data = standardize_columns(americas_data)\n",
    "emea_data = standardize_columns(emea_data)\n",
    "forecast_data = standardize_columns(forecast_data)"
   ],
   "outputs": [],
   "execution_count": 642
  },
  {
   "cell_type": "markdown",
   "id": "0f866c0a-6e2f-44ba-90d6-b891e75448ab",
   "metadata": {},
   "source": [
    "Quick overview of the data in all dataframes"
   ]
  },
  {
   "cell_type": "code",
   "id": "24805d0df34620ce",
   "metadata": {
    "ExecuteTime": {
     "end_time": "2024-09-05T11:02:19.254550Z",
     "start_time": "2024-09-05T11:02:19.226555Z"
    }
   },
   "source": [
    "print('Americas Data:')\n",
    "print(americas_data.head(), '\\n')\n",
    "\n",
    "print('EMEA Data:')\n",
    "print(emea_data.head(), '\\n')\n",
    "\n",
    "print('Asia Data:')\n",
    "print(asia_data.head(), '\\n')\n",
    "\n",
    "print('Forecast Data:')\n",
    "print(forecast_data.head(), '\\n')"
   ],
   "outputs": [
    {
     "name": "stdout",
     "output_type": "stream",
     "text": [
      "Americas Data:\n",
      "   unnamed: 0    surcharge  material_nbr  period  \\\n",
      "0           0  5053.311857    11947192.0    2020   \n",
      "1           1  3744.609416    12502640.0    2022   \n",
      "2           2  2346.913894    11947192.0    2021   \n",
      "3           3  3507.780298    12515444.0    2021   \n",
      "4           4  1515.461933           NaN    2020   \n",
      "\n",
      "   commercial_sales_territory_code  sales_tcfxact      net_qty  \\\n",
      "0                            923.0     866.632718   631.691689   \n",
      "1                            923.0  -30561.190505    24.500444   \n",
      "2                            923.0   27128.528866  1198.988892   \n",
      "3                            921.0   13872.159979   314.982145   \n",
      "4                            922.0    3199.227007  1587.437073   \n",
      "\n",
      "  commercial_team commercial_subregion_desc  company_code  ...  \\\n",
      "0            CT13                  UNDEF CA        1318.0  ...   \n",
      "1            CT13                  UNDEF CA        1318.0  ...   \n",
      "2            CT13                  UNDEF CA        1318.0  ...   \n",
      "3            CT13                  UNDEF US        3605.0  ...   \n",
      "4            CT14                  UNDEF MX        4570.0  ...   \n",
      "\n",
      "  commercial_area_code commercial_district   gross_sales region_code  \\\n",
      "0                  CA6               CD-CA  31513.949780           2   \n",
      "1                  CA6               CD-CA  26158.507145           2   \n",
      "2                  CA6               CD-CA  26782.343203           2   \n",
      "3                  CA6               CD-US  25154.177859           2   \n",
      "4                  CA7               CD-MX  13350.509660           2   \n",
      "\n",
      "  region_description                  crop  commercial_team_description  \\\n",
      "0                NAM                TOMATO                        US&CA   \n",
      "1                NAM            SWEET CORN                        US&CA   \n",
      "2                NAM                TOMATO                        US&CA   \n",
      "3                NAM                TOMATO                        US&CA   \n",
      "4                NAM  OTHER VEGETABLE SEED                     MX&CACAR   \n",
      "\n",
      "     base_sales     discount     net_sales  \n",
      "0  26460.637923  3934.715024  27579.234756  \n",
      "1  22413.897730  4424.709552  21733.797594  \n",
      "2  24435.429310  4804.535337  21977.807866  \n",
      "3  21646.397561  4503.714706  20650.463153  \n",
      "4  11835.047727  2199.959130  11150.550529  \n",
      "\n",
      "[5 rows x 23 columns] \n",
      "\n",
      "EMEA Data:\n",
      "   unnamed: 0 commercial_team commercial_country_name   period  \\\n",
      "0           0             CT7                   Italy  2020.03   \n",
      "1           1             CT7                   Italy  2020.03   \n",
      "2           2            CT52                 Germany  2021.06   \n",
      "3           3            CT52                 Germany  2022.12   \n",
      "4           4            CT52             Netherlands  2021.07   \n",
      "\n",
      "  commercial_subregion_desc commercial_district_description      net_qty  \\\n",
      "0                     ITALY                        CD-Italy   149.730967   \n",
      "1                     ITALY                        CD-Italy   628.913720   \n",
      "2             NW OPEN FIELD                CD-Germany-Openf  1576.427147   \n",
      "3             NW OPEN FIELD                CD-Germany-Openf  1151.868825   \n",
      "4             NW OPEN FIELD             CD-Netherland-Openf  1076.568791   \n",
      "\n",
      "  commercial_district region_description  commercial_sales_territory_code  \\\n",
      "0               CD-IT               EMEA                            602.0   \n",
      "1               CD-IT               EMEA                            602.0   \n",
      "2          CD-DE-OPEN               EMEA                            671.0   \n",
      "3          CD-DE-OPEN               EMEA                            671.0   \n",
      "4          CD-NL-OPEN               EMEA                            669.0   \n",
      "\n",
      "   ... commercial_area_code  commercial_team_description    surcharge  \\\n",
      "0  ...                 CAW1                        ITALY  1331.547643   \n",
      "1  ...                 CAW1                        ITALY  2937.590259   \n",
      "2  ...                 CAW2                NW OPEN FIELD  3107.940426   \n",
      "3  ...                 CAW2                NW OPEN FIELD  2498.692982   \n",
      "4  ...                 CAW2                NW OPEN FIELD  1789.255107   \n",
      "\n",
      "    gross_sales material_nbr  region_code  company_code    base_sales  \\\n",
      "0  17698.469477          NaN            1        3515.0  16366.921834   \n",
      "1  18141.307759          NaN            1        3515.0  15203.717500   \n",
      "2  32893.538171          NaN            1        3385.0  29785.597744   \n",
      "3  20117.334270          NaN            1        3385.0  17618.641288   \n",
      "4  18492.631750          NaN            1        3605.0  16703.376644   \n",
      "\n",
      "      discount     net_sales  \n",
      "0  1427.180248  16271.289229  \n",
      "1  2564.028564  15577.279194  \n",
      "2  4587.631824  28305.906346  \n",
      "3  3841.863792  16275.470478  \n",
      "4   650.319978  17842.311772  \n",
      "\n",
      "[5 rows x 23 columns] \n",
      "\n",
      "Asia Data:\n",
      "  commercial_team commercial_area_code    surcharge region_description  \\\n",
      "0            CT29                 CA22  2480.701181           SA & SEA   \n",
      "1            CT29                 CA22  2903.410514           SA & SEA   \n",
      "2            CT17                 CA10  2900.639112                ANZ   \n",
      "3            CT29                 CA22  3722.104986           SA & SEA   \n",
      "4            CT29                 CA22  2178.334082           SA & SEA   \n",
      "\n",
      "  commercial_area_description  commercial_sales_territory_code   period  \\\n",
      "0                       INDIA                              765  2020.10   \n",
      "1                       INDIA                              765  2020.07   \n",
      "2       AUSTRALIA/NEW ZEALAND                              176  2020.03   \n",
      "3                       INDIA                              765  2020.01   \n",
      "4                       INDIA                              765  2020.04   \n",
      "\n",
      "  commercial_subregion_desc      net_qty commercial_district  ...  \\\n",
      "0                     INDIA   670.625884               CD-IN  ...   \n",
      "1                     INDIA   983.069821               CD-IN  ...   \n",
      "2     AUSTRALIA/NEW ZEALAND  1012.090908               CD-NZ  ...   \n",
      "3                     INDIA  1801.817992               CD-IN  ...   \n",
      "4                     INDIA    75.567965               CD-IN  ...   \n",
      "\n",
      "  commercial_district_description                  crop   gross_sales  \\\n",
      "0                        CD-India                  OKRA  16882.097014   \n",
      "1                        CD-India          BEAN, GARDEN  29973.232514   \n",
      "2                  CD-New Zealand  OTHER VEGETABLE SEED  24979.536312   \n",
      "3                        CD-India                RADISH  26599.713350   \n",
      "4                        CD-India                 GOURD  14539.498084   \n",
      "\n",
      "   region_code  commercial_country_name material_nbr  company_code  \\\n",
      "0            6                    India   12760240.0          1266   \n",
      "1            6                    India          NaN          1266   \n",
      "2            7              New Zealand          NaN          1505   \n",
      "3            6                    India   12697737.0          1266   \n",
      "4            6                    India   10798361.0          1266   \n",
      "\n",
      "     base_sales     discount     net_sales  \n",
      "0  14401.395832  1906.704238  14975.392775  \n",
      "1  27069.822001  3343.258254  26629.974261  \n",
      "2  22078.897200  3869.793770  21109.742542  \n",
      "3  22877.608363  6533.606642  20066.106708  \n",
      "4  12361.164002  2881.255242  11658.242842  \n",
      "\n",
      "[5 rows x 21 columns] \n",
      "\n",
      "Forecast Data:\n",
      "   unnamed: 0  material_number commercial_segment cmrcl_wrld_area_cd  \\\n",
      "0           0         11181800                PRC           AMERICAS   \n",
      "1           1         12581731                OPN               EMEA   \n",
      "2           2         10784139                OPN               EMEA   \n",
      "3           3         30238985                OPN               EMEA   \n",
      "4           4         11484438                OPN               ASIA   \n",
      "\n",
      "  cmrcl_rgn_nm cmrcl_cntry_cd  cmrcl_cntry_dsc cmrcl_subrgn_cd  \\\n",
      "0          NAM             CA           Canada           SR204   \n",
      "1         EMEA             FR           France           SR132   \n",
      "2         EMEA             IT            Italy           SR121   \n",
      "3         EMEA             BY  Rep. of Belarus           SR501   \n",
      "4          ANZ             NZ      New Zealand           SR507   \n",
      "\n",
      "  cmrcl_subrgn_nm      sku_cd  year  forecast_val  \n",
      "0          NAM PC  PM10002925  2022  29208.506023  \n",
      "1   NW OPEN FIELD  PM10008815  2022  24305.954067  \n",
      "2           ITALY  PM10002210  2022  38051.760436  \n",
      "3         TD EMEA  PM10008952  2022  29540.648300  \n",
      "4          TD ANZ  PM10007906  2022  25630.491134   \n",
      "\n"
     ]
    }
   ],
   "execution_count": 643
  },
  {
   "cell_type": "markdown",
   "id": "399891c794731450",
   "metadata": {},
   "source": [
    "- Irrelevant columns detected: 'unnamed: 0' in americas_data, emea_data, forecast_data; 'sales_tcfxact' in americas_data\n",
    "- Format inconsistencies in 'period' column: only year / year and month. Forecast is made for the year\n",
    "- Potential naming inconsistencies in 'commercial_country_name'"
   ]
  },
  {
   "cell_type": "markdown",
   "id": "48b5eb20-1699-4666-b9cb-56113c40b91c",
   "metadata": {},
   "source": [
    "## 3. Data Cleaning"
   ]
  },
  {
   "cell_type": "code",
   "id": "f51a13ce1efdbf53",
   "metadata": {
    "ExecuteTime": {
     "end_time": "2024-09-05T11:02:19.379091Z",
     "start_time": "2024-09-05T11:02:19.350723Z"
    }
   },
   "source": [
    "# Drop extra columns\n",
    "americas_data = americas_data.drop(columns=['unnamed: 0', 'sales_tcfxact'], errors='ignore')\n",
    "emea_data = emea_data.drop(columns=['unnamed: 0', 'sales_tc_fxact'], errors='ignore')\n",
    "asia_data = asia_data.drop(columns=['unnamed: 0'], errors='ignore')\n",
    "forecast_data = forecast_data.drop(columns=['unnamed: 0'], errors='ignore')"
   ],
   "outputs": [],
   "execution_count": 644
  },
  {
   "cell_type": "code",
   "id": "7f7803197e26726c",
   "metadata": {
    "ExecuteTime": {
     "end_time": "2024-09-05T11:02:19.581433Z",
     "start_time": "2024-09-05T11:02:19.461434Z"
    }
   },
   "source": [
    "# Check for duplicates\n",
    "print('Duplicates in Americas data:', americas_data.duplicated().sum())\n",
    "print('Duplicates in EMEA data:', emea_data.duplicated().sum())\n",
    "print('Duplicates in Asia data:', asia_data.duplicated().sum())\n",
    "print('Duplicates in Forecast data:', forecast_data.duplicated().sum())"
   ],
   "outputs": [
    {
     "name": "stdout",
     "output_type": "stream",
     "text": [
      "Duplicates in Americas data: 0\n",
      "Duplicates in EMEA data: 0\n",
      "Duplicates in Asia data: 0\n",
      "Duplicates in Forecast data: 0\n"
     ]
    }
   ],
   "execution_count": 645
  },
  {
   "cell_type": "code",
   "id": "3b5916a7ae7e4d3b",
   "metadata": {
    "ExecuteTime": {
     "end_time": "2024-09-05T11:02:19.702433Z",
     "start_time": "2024-09-05T11:02:19.690435Z"
    }
   },
   "source": [
    "# Add 'region' column and fill it with the name of the file\n",
    "americas_data['region'] = 'Americas'\n",
    "emea_data['region'] = 'EMEA'\n",
    "asia_data['region'] = 'Asia'"
   ],
   "outputs": [],
   "execution_count": 646
  },
  {
   "cell_type": "code",
   "id": "fed6f4d39c131eb6",
   "metadata": {
    "ExecuteTime": {
     "end_time": "2024-09-05T11:02:19.810434Z",
     "start_time": "2024-09-05T11:02:19.797432Z"
    }
   },
   "source": [
    "# Check the data types and missing values\n",
    "americas_data.info()"
   ],
   "outputs": [
    {
     "name": "stdout",
     "output_type": "stream",
     "text": [
      "<class 'pandas.core.frame.DataFrame'>\n",
      "RangeIndex: 3717 entries, 0 to 3716\n",
      "Data columns (total 22 columns):\n",
      " #   Column                           Non-Null Count  Dtype  \n",
      "---  ------                           --------------  -----  \n",
      " 0   surcharge                        3717 non-null   float64\n",
      " 1   material_nbr                     3613 non-null   float64\n",
      " 2   period                           3717 non-null   int64  \n",
      " 3   commercial_sales_territory_code  3717 non-null   float64\n",
      " 4   net_qty                          3717 non-null   float64\n",
      " 5   commercial_team                  3717 non-null   object \n",
      " 6   commercial_subregion_desc        3717 non-null   object \n",
      " 7   company_code                     3717 non-null   float64\n",
      " 8   commercial_district_description  3717 non-null   object \n",
      " 9   commercial_area_description      3717 non-null   object \n",
      " 10  commercial_country_name          3717 non-null   object \n",
      " 11  commercial_area_code             3717 non-null   object \n",
      " 12  commercial_district              3717 non-null   object \n",
      " 13  gross_sales                      3717 non-null   float64\n",
      " 14  region_code                      3717 non-null   int64  \n",
      " 15  region_description               3717 non-null   object \n",
      " 16  crop                             3717 non-null   object \n",
      " 17  commercial_team_description      3717 non-null   object \n",
      " 18  base_sales                       3717 non-null   float64\n",
      " 19  discount                         3717 non-null   float64\n",
      " 20  net_sales                        3717 non-null   float64\n",
      " 21  region                           3717 non-null   object \n",
      "dtypes: float64(9), int64(2), object(11)\n",
      "memory usage: 639.0+ KB\n"
     ]
    }
   ],
   "execution_count": 647
  },
  {
   "cell_type": "markdown",
   "id": "82abcb15-a740-43db-84b9-37da4d8f9ee1",
   "metadata": {},
   "source": [
    "Missing values detected in 'material_nbr', column 'period' is not in date format, which is not optimal"
   ]
  },
  {
   "cell_type": "code",
   "id": "162994b4-516b-4d08-a791-4e73f10da66e",
   "metadata": {
    "ExecuteTime": {
     "end_time": "2024-09-05T11:02:19.922432Z",
     "start_time": "2024-09-05T11:02:19.909432Z"
    }
   },
   "source": [
    "emea_data.info()"
   ],
   "outputs": [
    {
     "name": "stdout",
     "output_type": "stream",
     "text": [
      "<class 'pandas.core.frame.DataFrame'>\n",
      "RangeIndex: 5707 entries, 0 to 5706\n",
      "Data columns (total 22 columns):\n",
      " #   Column                           Non-Null Count  Dtype  \n",
      "---  ------                           --------------  -----  \n",
      " 0   commercial_team                  5707 non-null   object \n",
      " 1   commercial_country_name          5707 non-null   object \n",
      " 2   period                           5707 non-null   float64\n",
      " 3   commercial_subregion_desc        5707 non-null   object \n",
      " 4   commercial_district_description  5707 non-null   object \n",
      " 5   net_qty                          5707 non-null   float64\n",
      " 6   commercial_district              5707 non-null   object \n",
      " 7   region_description               5707 non-null   object \n",
      " 8   commercial_sales_territory_code  5707 non-null   float64\n",
      " 9   crop                             5707 non-null   object \n",
      " 10  commercial_area_description      5707 non-null   object \n",
      " 11  commercial_area_code             5707 non-null   object \n",
      " 12  commercial_team_description      5707 non-null   object \n",
      " 13  surcharge                        5707 non-null   float64\n",
      " 14  gross_sales                      5707 non-null   float64\n",
      " 15  material_nbr                     5358 non-null   float64\n",
      " 16  region_code                      5707 non-null   int64  \n",
      " 17  company_code                     5707 non-null   float64\n",
      " 18  base_sales                       5707 non-null   float64\n",
      " 19  discount                         5707 non-null   float64\n",
      " 20  net_sales                        5707 non-null   float64\n",
      " 21  region                           5707 non-null   object \n",
      "dtypes: float64(10), int64(1), object(11)\n",
      "memory usage: 981.0+ KB\n"
     ]
    }
   ],
   "execution_count": 648
  },
  {
   "cell_type": "markdown",
   "id": "b6eef82a-2d0a-4ded-9d7c-b418dd693863",
   "metadata": {},
   "source": [
    "Missing values in 'material_nbr', column 'period' is not in date format"
   ]
  },
  {
   "cell_type": "code",
   "id": "87f6ce75-f622-42e1-a72f-2a64bba29d48",
   "metadata": {
    "ExecuteTime": {
     "end_time": "2024-09-05T11:02:20.048432Z",
     "start_time": "2024-09-05T11:02:20.020436Z"
    }
   },
   "source": [
    "asia_data.info()"
   ],
   "outputs": [
    {
     "name": "stdout",
     "output_type": "stream",
     "text": [
      "<class 'pandas.core.frame.DataFrame'>\n",
      "RangeIndex: 7403 entries, 0 to 7402\n",
      "Data columns (total 22 columns):\n",
      " #   Column                           Non-Null Count  Dtype  \n",
      "---  ------                           --------------  -----  \n",
      " 0   commercial_team                  7403 non-null   object \n",
      " 1   commercial_area_code             7403 non-null   object \n",
      " 2   surcharge                        7403 non-null   float64\n",
      " 3   region_description               7403 non-null   object \n",
      " 4   commercial_area_description      7403 non-null   object \n",
      " 5   commercial_sales_territory_code  7403 non-null   int64  \n",
      " 6   period                           7403 non-null   float64\n",
      " 7   commercial_subregion_desc        7403 non-null   object \n",
      " 8   net_qty                          7403 non-null   float64\n",
      " 9   commercial_district              7403 non-null   object \n",
      " 10  commercial_team_description      7403 non-null   object \n",
      " 11  commercial_district_description  7403 non-null   object \n",
      " 12  crop                             7403 non-null   object \n",
      " 13  gross_sales                      7403 non-null   float64\n",
      " 14  region_code                      7403 non-null   int64  \n",
      " 15  commercial_country_name          7403 non-null   object \n",
      " 16  material_nbr                     7256 non-null   float64\n",
      " 17  company_code                     7403 non-null   int64  \n",
      " 18  base_sales                       7403 non-null   float64\n",
      " 19  discount                         7403 non-null   float64\n",
      " 20  net_sales                        7403 non-null   float64\n",
      " 21  region                           7403 non-null   object \n",
      "dtypes: float64(8), int64(3), object(11)\n",
      "memory usage: 1.2+ MB\n"
     ]
    }
   ],
   "execution_count": 649
  },
  {
   "cell_type": "markdown",
   "id": "c0850564-f9a7-472a-b8cd-26dfb3918adb",
   "metadata": {},
   "source": [
    "Missing values in 'material_nbr', column 'period' is not in date format"
   ]
  },
  {
   "cell_type": "code",
   "id": "15e7ad57-10ec-49e5-9a5c-04978450d527",
   "metadata": {
    "ExecuteTime": {
     "end_time": "2024-09-05T11:02:20.189802Z",
     "start_time": "2024-09-05T11:02:20.143784Z"
    }
   },
   "source": [
    "forecast_data.info()"
   ],
   "outputs": [
    {
     "name": "stdout",
     "output_type": "stream",
     "text": [
      "<class 'pandas.core.frame.DataFrame'>\n",
      "RangeIndex: 128526 entries, 0 to 128525\n",
      "Data columns (total 11 columns):\n",
      " #   Column              Non-Null Count   Dtype  \n",
      "---  ------              --------------   -----  \n",
      " 0   material_number     128526 non-null  int64  \n",
      " 1   commercial_segment  106590 non-null  object \n",
      " 2   cmrcl_wrld_area_cd  128526 non-null  object \n",
      " 3   cmrcl_rgn_nm        128526 non-null  object \n",
      " 4   cmrcl_cntry_cd      128526 non-null  object \n",
      " 5   cmrcl_cntry_dsc     128526 non-null  object \n",
      " 6   cmrcl_subrgn_cd     128526 non-null  object \n",
      " 7   cmrcl_subrgn_nm     128526 non-null  object \n",
      " 8   sku_cd              107940 non-null  object \n",
      " 9   year                128526 non-null  int64  \n",
      " 10  forecast_val        128526 non-null  float64\n",
      "dtypes: float64(1), int64(2), object(8)\n",
      "memory usage: 10.8+ MB\n"
     ]
    }
   ],
   "execution_count": 650
  },
  {
   "cell_type": "markdown",
   "id": "806c66ef-4e2c-4c5e-af0b-01c00282dd49",
   "metadata": {},
   "source": [
    "Missing values in 'commercial_segment', 'sku_cd' detected. These columns don't match with sales data, therefore they can't be used in the analysis."
   ]
  },
  {
   "cell_type": "code",
   "id": "4da46e91-fa99-4bfb-8404-3e0c631615e5",
   "metadata": {
    "ExecuteTime": {
     "end_time": "2024-09-05T11:02:20.299811Z",
     "start_time": "2024-09-05T11:02:20.286802Z"
    }
   },
   "source": [
    "# Drop extra columns with missing values\n",
    "forecast_data = forecast_data.drop(columns=['commercial_segment', 'sku_cd'], errors='ignore')"
   ],
   "outputs": [],
   "execution_count": 651
  },
  {
   "cell_type": "code",
   "id": "a1290a5feea83b12",
   "metadata": {
    "ExecuteTime": {
     "end_time": "2024-09-05T11:02:20.410793Z",
     "start_time": "2024-09-05T11:02:20.397788Z"
    }
   },
   "source": [
    "# Evaluate the share of missing values\n",
    "americas_missing = americas_data['material_nbr'].isnull().mean() * 100\n",
    "emea_missing = emea_data['material_nbr'].isnull().mean() * 100\n",
    "asia_missing = asia_data['material_nbr'].isnull().mean() * 100\n",
    "\n",
    "print(f\"Missing 'material_nbr' in Americas: {americas_missing:.2f}%\")\n",
    "print(f\"Missing 'material_nbr' in EMEA: {emea_missing:.2f}%\")\n",
    "print(f\"Missing 'material_nbr' in Asia: {asia_missing:.2f}%\")"
   ],
   "outputs": [
    {
     "name": "stdout",
     "output_type": "stream",
     "text": [
      "Missing 'material_nbr' in Americas: 2.80%\n",
      "Missing 'material_nbr' in EMEA: 6.12%\n",
      "Missing 'material_nbr' in Asia: 1.99%\n"
     ]
    }
   ],
   "execution_count": 652
  },
  {
   "cell_type": "markdown",
   "id": "d6ebd9618def71a2",
   "metadata": {},
   "source": [
    "This column is essential for the correct join of sales and forecast, additional checks are needed to figure out if there are any regularities about these rows."
   ]
  },
  {
   "cell_type": "code",
   "id": "cc1cd27b9c388420",
   "metadata": {
    "ExecuteTime": {
     "end_time": "2024-09-05T11:02:20.531797Z",
     "start_time": "2024-09-05T11:02:20.503783Z"
    }
   },
   "source": [
    "# Look at the rows where material_number is missing for EMEA region\n",
    "missing_material_rows = emea_data[emea_data['material_nbr'].isnull()]\n",
    "missing_material_rows.head(20)"
   ],
   "outputs": [
    {
     "data": {
      "text/plain": [
       "   commercial_team commercial_country_name   period commercial_subregion_desc  \\\n",
       "0              CT7                   Italy  2020.03                     ITALY   \n",
       "1              CT7                   Italy  2020.03                     ITALY   \n",
       "2             CT52                 Germany  2021.06             NW OPEN FIELD   \n",
       "3             CT52                 Germany  2022.12             NW OPEN FIELD   \n",
       "4             CT52             Netherlands  2021.07             NW OPEN FIELD   \n",
       "5             CT59                    Iran  2022.10                      IRAN   \n",
       "6             CT59                    Iran  2022.03                      IRAN   \n",
       "7             CT53                  Kuwait  2020.02               MIDDLE EAST   \n",
       "8             CT51             Netherlands  2021.09                EMEA GLASS   \n",
       "9             CT52                 Germany  2022.03             NW OPEN FIELD   \n",
       "10            CT52                 Germany  2022.06             NW OPEN FIELD   \n",
       "11            CT52             Netherlands  2021.05             NW OPEN FIELD   \n",
       "12            CTX1              Undef EMEA  2021.11                UNDEF EMEA   \n",
       "13             CT7                   Italy  2022.10                     ITALY   \n",
       "14            CT50                 Germany  2022.12           EMEA PROCESSING   \n",
       "15            CT51                  France  2020.11                EMEA GLASS   \n",
       "16            CT52             Netherlands  2022.03             NW OPEN FIELD   \n",
       "17            CTX1              Undef EMEA  2022.07                UNDEF EMEA   \n",
       "18            CT58                 Türkiye  2022.08                    TURKEY   \n",
       "19             CT5                   Spain  2021.02                   IBERICA   \n",
       "\n",
       "   commercial_district_description      net_qty commercial_district  \\\n",
       "0                         CD-Italy   149.730967               CD-IT   \n",
       "1                         CD-Italy   628.913720               CD-IT   \n",
       "2                 CD-Germany-Openf  1576.427147          CD-DE-OPEN   \n",
       "3                 CD-Germany-Openf  1151.868825          CD-DE-OPEN   \n",
       "4              CD-Netherland-Openf  1076.568791          CD-NL-OPEN   \n",
       "5                          CD-Iran  2046.737950               CD-IR   \n",
       "6                          CD-Iran   683.470520               CD-IR   \n",
       "7                        CD-Kuwait   814.712329               CD-KW   \n",
       "8             CD-Netherlands-Glass   208.086718          CD-NL-GLAS   \n",
       "9                 CD-Germany-Openf  1775.678647          CD-DE-OPEN   \n",
       "10                CD-Germany-Openf   267.083380          CD-DE-OPEN   \n",
       "11            CD-Netherlands-Openf  1088.110470          CD-NL-OPEN   \n",
       "12                   CD-Undef EMEA   704.197577               CD-X1   \n",
       "13                        CD-Italy   976.047743               CD-IT   \n",
       "14                 CD-Germany-Proc     6.778188          CD-DE-PROC   \n",
       "15                 CD-France-Glass   648.034048          CD-FR-GLAS   \n",
       "16            CD-Netherlands-Openf  1617.181782          CD-NL-OPEN   \n",
       "17                   CD-Undef EMEA   117.693763               CD-X1   \n",
       "18                       CD-Turkey   287.081714               CD-TR   \n",
       "19                        CD-Spain   493.362431               CD-ES   \n",
       "\n",
       "   region_description  commercial_sales_territory_code                  crop  \\\n",
       "0                EMEA                            602.0          BEAN, GARDEN   \n",
       "1                EMEA                            602.0  OTHER VEGETABLE SEED   \n",
       "2                EMEA                            671.0  OTHER VEGETABLE SEED   \n",
       "3                EMEA                            671.0  OTHER VEGETABLE SEED   \n",
       "4                EMEA                            669.0                CARROT   \n",
       "5                EMEA                            688.0                CARROT   \n",
       "6                EMEA                            688.0                SQUASH   \n",
       "7                EMEA                            656.0                TOMATO   \n",
       "8                EMEA                            663.0                TOMATO   \n",
       "9                EMEA                            671.0  OTHER VEGETABLE SEED   \n",
       "10               EMEA                            671.0  OTHER VEGETABLE SEED   \n",
       "11               EMEA                            669.0           CAULIFLOWER   \n",
       "12               EMEA                            911.0                   PEA   \n",
       "13               EMEA                            602.0  OTHER VEGETABLE SEED   \n",
       "14               EMEA                            658.0            SWEET CORN   \n",
       "15               EMEA                            664.0                TOMATO   \n",
       "16               EMEA                            669.0              BROCCOLI   \n",
       "17               EMEA                            911.0                   PEA   \n",
       "18               EMEA                            604.0  OTHER VEGETABLE SEED   \n",
       "19               EMEA                            649.0  OTHER VEGETABLE SEED   \n",
       "\n",
       "    ... commercial_team_description    surcharge   gross_sales  material_nbr  \\\n",
       "0   ...                       ITALY  1331.547643  17698.469477           NaN   \n",
       "1   ...                       ITALY  2937.590259  18141.307759           NaN   \n",
       "2   ...               NW OPEN FIELD  3107.940426  32893.538171           NaN   \n",
       "3   ...               NW OPEN FIELD  2498.692982  20117.334270           NaN   \n",
       "4   ...               NW OPEN FIELD  1789.255107  18492.631750           NaN   \n",
       "5   ...                        IRAN  4957.499154  29348.580023           NaN   \n",
       "6   ...                        IRAN  3426.082475  22345.659780           NaN   \n",
       "7   ...         MIDDLE EAST & EGYPT  2066.209757  20373.990754           NaN   \n",
       "8   ...                  EMEA GLASS  4787.052491  33142.540511           NaN   \n",
       "9   ...               NW OPEN FIELD  1589.365197  15238.269824           NaN   \n",
       "10  ...               NW OPEN FIELD  4408.969619  30687.409425           NaN   \n",
       "11  ...               NW OPEN FIELD  3642.699414  26142.845022           NaN   \n",
       "12  ...                  UNDEF EMEA  3024.646895  26094.436632           NaN   \n",
       "13  ...                       ITALY  5136.186004  33662.623052           NaN   \n",
       "14  ...             EMEA PROCESSING  4225.391236  33452.342975           NaN   \n",
       "15  ...                  EMEA GLASS  3537.641988  18776.814342           NaN   \n",
       "16  ...               NW OPEN FIELD  1268.575193  11617.336425           NaN   \n",
       "17  ...                  UNDEF EMEA  4214.255431  31100.615858           NaN   \n",
       "18  ...               TURKEY & S-CA  3161.434295  23102.563177           NaN   \n",
       "19  ...                     IBERICA  3624.991742  28045.053937           NaN   \n",
       "\n",
       "    region_code  company_code    base_sales     discount     net_sales  region  \n",
       "0             1        3515.0  16366.921834  1427.180248  16271.289229    EMEA  \n",
       "1             1        3515.0  15203.717500  2564.028564  15577.279194    EMEA  \n",
       "2             1        3385.0  29785.597744  4587.631824  28305.906346    EMEA  \n",
       "3             1        3385.0  17618.641288  3841.863792  16275.470478    EMEA  \n",
       "4             1        3605.0  16703.376644   650.319978  17842.311772    EMEA  \n",
       "5             1        3605.0  24391.080869  4241.998726  25106.581297    EMEA  \n",
       "6             1        3605.0  18919.577305  2672.224993  19673.434787    EMEA  \n",
       "7             1        3605.0  18307.780997  3685.186973  16688.803781    EMEA  \n",
       "8             1        3605.0  28355.488021  4121.115022  29021.425489    EMEA  \n",
       "9             1        3385.0  13648.904627  2703.065348  12535.204476    EMEA  \n",
       "10            1        3385.0  26278.439806  6849.080914  23838.328512    EMEA  \n",
       "11            1        3605.0  22500.145608  2963.958908  23178.886114    EMEA  \n",
       "12            1        3605.0  23069.789737  2933.923956  23160.512676    EMEA  \n",
       "13            1        3515.0  28526.437048  3936.571500  29726.051552    EMEA  \n",
       "14            1        3605.0  29226.951739  3108.891222  30343.451753    EMEA  \n",
       "15            1        3354.0  15239.172354  2568.052586  16208.761756    EMEA  \n",
       "16            1        3605.0  10348.761232  1944.798811   9672.537614    EMEA  \n",
       "17            1        3605.0  26886.360426  5795.631894  25304.983964    EMEA  \n",
       "18            1        3970.0  19941.128883  3059.849960  20042.713217    EMEA  \n",
       "19            1        3781.0  24420.062195  3886.285899  24158.768038    EMEA  \n",
       "\n",
       "[20 rows x 22 columns]"
      ],
      "text/html": [
       "<div>\n",
       "<style scoped>\n",
       "    .dataframe tbody tr th:only-of-type {\n",
       "        vertical-align: middle;\n",
       "    }\n",
       "\n",
       "    .dataframe tbody tr th {\n",
       "        vertical-align: top;\n",
       "    }\n",
       "\n",
       "    .dataframe thead th {\n",
       "        text-align: right;\n",
       "    }\n",
       "</style>\n",
       "<table border=\"1\" class=\"dataframe\">\n",
       "  <thead>\n",
       "    <tr style=\"text-align: right;\">\n",
       "      <th></th>\n",
       "      <th>commercial_team</th>\n",
       "      <th>commercial_country_name</th>\n",
       "      <th>period</th>\n",
       "      <th>commercial_subregion_desc</th>\n",
       "      <th>commercial_district_description</th>\n",
       "      <th>net_qty</th>\n",
       "      <th>commercial_district</th>\n",
       "      <th>region_description</th>\n",
       "      <th>commercial_sales_territory_code</th>\n",
       "      <th>crop</th>\n",
       "      <th>...</th>\n",
       "      <th>commercial_team_description</th>\n",
       "      <th>surcharge</th>\n",
       "      <th>gross_sales</th>\n",
       "      <th>material_nbr</th>\n",
       "      <th>region_code</th>\n",
       "      <th>company_code</th>\n",
       "      <th>base_sales</th>\n",
       "      <th>discount</th>\n",
       "      <th>net_sales</th>\n",
       "      <th>region</th>\n",
       "    </tr>\n",
       "  </thead>\n",
       "  <tbody>\n",
       "    <tr>\n",
       "      <th>0</th>\n",
       "      <td>CT7</td>\n",
       "      <td>Italy</td>\n",
       "      <td>2020.03</td>\n",
       "      <td>ITALY</td>\n",
       "      <td>CD-Italy</td>\n",
       "      <td>149.730967</td>\n",
       "      <td>CD-IT</td>\n",
       "      <td>EMEA</td>\n",
       "      <td>602.0</td>\n",
       "      <td>BEAN, GARDEN</td>\n",
       "      <td>...</td>\n",
       "      <td>ITALY</td>\n",
       "      <td>1331.547643</td>\n",
       "      <td>17698.469477</td>\n",
       "      <td>NaN</td>\n",
       "      <td>1</td>\n",
       "      <td>3515.0</td>\n",
       "      <td>16366.921834</td>\n",
       "      <td>1427.180248</td>\n",
       "      <td>16271.289229</td>\n",
       "      <td>EMEA</td>\n",
       "    </tr>\n",
       "    <tr>\n",
       "      <th>1</th>\n",
       "      <td>CT7</td>\n",
       "      <td>Italy</td>\n",
       "      <td>2020.03</td>\n",
       "      <td>ITALY</td>\n",
       "      <td>CD-Italy</td>\n",
       "      <td>628.913720</td>\n",
       "      <td>CD-IT</td>\n",
       "      <td>EMEA</td>\n",
       "      <td>602.0</td>\n",
       "      <td>OTHER VEGETABLE SEED</td>\n",
       "      <td>...</td>\n",
       "      <td>ITALY</td>\n",
       "      <td>2937.590259</td>\n",
       "      <td>18141.307759</td>\n",
       "      <td>NaN</td>\n",
       "      <td>1</td>\n",
       "      <td>3515.0</td>\n",
       "      <td>15203.717500</td>\n",
       "      <td>2564.028564</td>\n",
       "      <td>15577.279194</td>\n",
       "      <td>EMEA</td>\n",
       "    </tr>\n",
       "    <tr>\n",
       "      <th>2</th>\n",
       "      <td>CT52</td>\n",
       "      <td>Germany</td>\n",
       "      <td>2021.06</td>\n",
       "      <td>NW OPEN FIELD</td>\n",
       "      <td>CD-Germany-Openf</td>\n",
       "      <td>1576.427147</td>\n",
       "      <td>CD-DE-OPEN</td>\n",
       "      <td>EMEA</td>\n",
       "      <td>671.0</td>\n",
       "      <td>OTHER VEGETABLE SEED</td>\n",
       "      <td>...</td>\n",
       "      <td>NW OPEN FIELD</td>\n",
       "      <td>3107.940426</td>\n",
       "      <td>32893.538171</td>\n",
       "      <td>NaN</td>\n",
       "      <td>1</td>\n",
       "      <td>3385.0</td>\n",
       "      <td>29785.597744</td>\n",
       "      <td>4587.631824</td>\n",
       "      <td>28305.906346</td>\n",
       "      <td>EMEA</td>\n",
       "    </tr>\n",
       "    <tr>\n",
       "      <th>3</th>\n",
       "      <td>CT52</td>\n",
       "      <td>Germany</td>\n",
       "      <td>2022.12</td>\n",
       "      <td>NW OPEN FIELD</td>\n",
       "      <td>CD-Germany-Openf</td>\n",
       "      <td>1151.868825</td>\n",
       "      <td>CD-DE-OPEN</td>\n",
       "      <td>EMEA</td>\n",
       "      <td>671.0</td>\n",
       "      <td>OTHER VEGETABLE SEED</td>\n",
       "      <td>...</td>\n",
       "      <td>NW OPEN FIELD</td>\n",
       "      <td>2498.692982</td>\n",
       "      <td>20117.334270</td>\n",
       "      <td>NaN</td>\n",
       "      <td>1</td>\n",
       "      <td>3385.0</td>\n",
       "      <td>17618.641288</td>\n",
       "      <td>3841.863792</td>\n",
       "      <td>16275.470478</td>\n",
       "      <td>EMEA</td>\n",
       "    </tr>\n",
       "    <tr>\n",
       "      <th>4</th>\n",
       "      <td>CT52</td>\n",
       "      <td>Netherlands</td>\n",
       "      <td>2021.07</td>\n",
       "      <td>NW OPEN FIELD</td>\n",
       "      <td>CD-Netherland-Openf</td>\n",
       "      <td>1076.568791</td>\n",
       "      <td>CD-NL-OPEN</td>\n",
       "      <td>EMEA</td>\n",
       "      <td>669.0</td>\n",
       "      <td>CARROT</td>\n",
       "      <td>...</td>\n",
       "      <td>NW OPEN FIELD</td>\n",
       "      <td>1789.255107</td>\n",
       "      <td>18492.631750</td>\n",
       "      <td>NaN</td>\n",
       "      <td>1</td>\n",
       "      <td>3605.0</td>\n",
       "      <td>16703.376644</td>\n",
       "      <td>650.319978</td>\n",
       "      <td>17842.311772</td>\n",
       "      <td>EMEA</td>\n",
       "    </tr>\n",
       "    <tr>\n",
       "      <th>5</th>\n",
       "      <td>CT59</td>\n",
       "      <td>Iran</td>\n",
       "      <td>2022.10</td>\n",
       "      <td>IRAN</td>\n",
       "      <td>CD-Iran</td>\n",
       "      <td>2046.737950</td>\n",
       "      <td>CD-IR</td>\n",
       "      <td>EMEA</td>\n",
       "      <td>688.0</td>\n",
       "      <td>CARROT</td>\n",
       "      <td>...</td>\n",
       "      <td>IRAN</td>\n",
       "      <td>4957.499154</td>\n",
       "      <td>29348.580023</td>\n",
       "      <td>NaN</td>\n",
       "      <td>1</td>\n",
       "      <td>3605.0</td>\n",
       "      <td>24391.080869</td>\n",
       "      <td>4241.998726</td>\n",
       "      <td>25106.581297</td>\n",
       "      <td>EMEA</td>\n",
       "    </tr>\n",
       "    <tr>\n",
       "      <th>6</th>\n",
       "      <td>CT59</td>\n",
       "      <td>Iran</td>\n",
       "      <td>2022.03</td>\n",
       "      <td>IRAN</td>\n",
       "      <td>CD-Iran</td>\n",
       "      <td>683.470520</td>\n",
       "      <td>CD-IR</td>\n",
       "      <td>EMEA</td>\n",
       "      <td>688.0</td>\n",
       "      <td>SQUASH</td>\n",
       "      <td>...</td>\n",
       "      <td>IRAN</td>\n",
       "      <td>3426.082475</td>\n",
       "      <td>22345.659780</td>\n",
       "      <td>NaN</td>\n",
       "      <td>1</td>\n",
       "      <td>3605.0</td>\n",
       "      <td>18919.577305</td>\n",
       "      <td>2672.224993</td>\n",
       "      <td>19673.434787</td>\n",
       "      <td>EMEA</td>\n",
       "    </tr>\n",
       "    <tr>\n",
       "      <th>7</th>\n",
       "      <td>CT53</td>\n",
       "      <td>Kuwait</td>\n",
       "      <td>2020.02</td>\n",
       "      <td>MIDDLE EAST</td>\n",
       "      <td>CD-Kuwait</td>\n",
       "      <td>814.712329</td>\n",
       "      <td>CD-KW</td>\n",
       "      <td>EMEA</td>\n",
       "      <td>656.0</td>\n",
       "      <td>TOMATO</td>\n",
       "      <td>...</td>\n",
       "      <td>MIDDLE EAST &amp; EGYPT</td>\n",
       "      <td>2066.209757</td>\n",
       "      <td>20373.990754</td>\n",
       "      <td>NaN</td>\n",
       "      <td>1</td>\n",
       "      <td>3605.0</td>\n",
       "      <td>18307.780997</td>\n",
       "      <td>3685.186973</td>\n",
       "      <td>16688.803781</td>\n",
       "      <td>EMEA</td>\n",
       "    </tr>\n",
       "    <tr>\n",
       "      <th>8</th>\n",
       "      <td>CT51</td>\n",
       "      <td>Netherlands</td>\n",
       "      <td>2021.09</td>\n",
       "      <td>EMEA GLASS</td>\n",
       "      <td>CD-Netherlands-Glass</td>\n",
       "      <td>208.086718</td>\n",
       "      <td>CD-NL-GLAS</td>\n",
       "      <td>EMEA</td>\n",
       "      <td>663.0</td>\n",
       "      <td>TOMATO</td>\n",
       "      <td>...</td>\n",
       "      <td>EMEA GLASS</td>\n",
       "      <td>4787.052491</td>\n",
       "      <td>33142.540511</td>\n",
       "      <td>NaN</td>\n",
       "      <td>1</td>\n",
       "      <td>3605.0</td>\n",
       "      <td>28355.488021</td>\n",
       "      <td>4121.115022</td>\n",
       "      <td>29021.425489</td>\n",
       "      <td>EMEA</td>\n",
       "    </tr>\n",
       "    <tr>\n",
       "      <th>9</th>\n",
       "      <td>CT52</td>\n",
       "      <td>Germany</td>\n",
       "      <td>2022.03</td>\n",
       "      <td>NW OPEN FIELD</td>\n",
       "      <td>CD-Germany-Openf</td>\n",
       "      <td>1775.678647</td>\n",
       "      <td>CD-DE-OPEN</td>\n",
       "      <td>EMEA</td>\n",
       "      <td>671.0</td>\n",
       "      <td>OTHER VEGETABLE SEED</td>\n",
       "      <td>...</td>\n",
       "      <td>NW OPEN FIELD</td>\n",
       "      <td>1589.365197</td>\n",
       "      <td>15238.269824</td>\n",
       "      <td>NaN</td>\n",
       "      <td>1</td>\n",
       "      <td>3385.0</td>\n",
       "      <td>13648.904627</td>\n",
       "      <td>2703.065348</td>\n",
       "      <td>12535.204476</td>\n",
       "      <td>EMEA</td>\n",
       "    </tr>\n",
       "    <tr>\n",
       "      <th>10</th>\n",
       "      <td>CT52</td>\n",
       "      <td>Germany</td>\n",
       "      <td>2022.06</td>\n",
       "      <td>NW OPEN FIELD</td>\n",
       "      <td>CD-Germany-Openf</td>\n",
       "      <td>267.083380</td>\n",
       "      <td>CD-DE-OPEN</td>\n",
       "      <td>EMEA</td>\n",
       "      <td>671.0</td>\n",
       "      <td>OTHER VEGETABLE SEED</td>\n",
       "      <td>...</td>\n",
       "      <td>NW OPEN FIELD</td>\n",
       "      <td>4408.969619</td>\n",
       "      <td>30687.409425</td>\n",
       "      <td>NaN</td>\n",
       "      <td>1</td>\n",
       "      <td>3385.0</td>\n",
       "      <td>26278.439806</td>\n",
       "      <td>6849.080914</td>\n",
       "      <td>23838.328512</td>\n",
       "      <td>EMEA</td>\n",
       "    </tr>\n",
       "    <tr>\n",
       "      <th>11</th>\n",
       "      <td>CT52</td>\n",
       "      <td>Netherlands</td>\n",
       "      <td>2021.05</td>\n",
       "      <td>NW OPEN FIELD</td>\n",
       "      <td>CD-Netherlands-Openf</td>\n",
       "      <td>1088.110470</td>\n",
       "      <td>CD-NL-OPEN</td>\n",
       "      <td>EMEA</td>\n",
       "      <td>669.0</td>\n",
       "      <td>CAULIFLOWER</td>\n",
       "      <td>...</td>\n",
       "      <td>NW OPEN FIELD</td>\n",
       "      <td>3642.699414</td>\n",
       "      <td>26142.845022</td>\n",
       "      <td>NaN</td>\n",
       "      <td>1</td>\n",
       "      <td>3605.0</td>\n",
       "      <td>22500.145608</td>\n",
       "      <td>2963.958908</td>\n",
       "      <td>23178.886114</td>\n",
       "      <td>EMEA</td>\n",
       "    </tr>\n",
       "    <tr>\n",
       "      <th>12</th>\n",
       "      <td>CTX1</td>\n",
       "      <td>Undef EMEA</td>\n",
       "      <td>2021.11</td>\n",
       "      <td>UNDEF EMEA</td>\n",
       "      <td>CD-Undef EMEA</td>\n",
       "      <td>704.197577</td>\n",
       "      <td>CD-X1</td>\n",
       "      <td>EMEA</td>\n",
       "      <td>911.0</td>\n",
       "      <td>PEA</td>\n",
       "      <td>...</td>\n",
       "      <td>UNDEF EMEA</td>\n",
       "      <td>3024.646895</td>\n",
       "      <td>26094.436632</td>\n",
       "      <td>NaN</td>\n",
       "      <td>1</td>\n",
       "      <td>3605.0</td>\n",
       "      <td>23069.789737</td>\n",
       "      <td>2933.923956</td>\n",
       "      <td>23160.512676</td>\n",
       "      <td>EMEA</td>\n",
       "    </tr>\n",
       "    <tr>\n",
       "      <th>13</th>\n",
       "      <td>CT7</td>\n",
       "      <td>Italy</td>\n",
       "      <td>2022.10</td>\n",
       "      <td>ITALY</td>\n",
       "      <td>CD-Italy</td>\n",
       "      <td>976.047743</td>\n",
       "      <td>CD-IT</td>\n",
       "      <td>EMEA</td>\n",
       "      <td>602.0</td>\n",
       "      <td>OTHER VEGETABLE SEED</td>\n",
       "      <td>...</td>\n",
       "      <td>ITALY</td>\n",
       "      <td>5136.186004</td>\n",
       "      <td>33662.623052</td>\n",
       "      <td>NaN</td>\n",
       "      <td>1</td>\n",
       "      <td>3515.0</td>\n",
       "      <td>28526.437048</td>\n",
       "      <td>3936.571500</td>\n",
       "      <td>29726.051552</td>\n",
       "      <td>EMEA</td>\n",
       "    </tr>\n",
       "    <tr>\n",
       "      <th>14</th>\n",
       "      <td>CT50</td>\n",
       "      <td>Germany</td>\n",
       "      <td>2022.12</td>\n",
       "      <td>EMEA PROCESSING</td>\n",
       "      <td>CD-Germany-Proc</td>\n",
       "      <td>6.778188</td>\n",
       "      <td>CD-DE-PROC</td>\n",
       "      <td>EMEA</td>\n",
       "      <td>658.0</td>\n",
       "      <td>SWEET CORN</td>\n",
       "      <td>...</td>\n",
       "      <td>EMEA PROCESSING</td>\n",
       "      <td>4225.391236</td>\n",
       "      <td>33452.342975</td>\n",
       "      <td>NaN</td>\n",
       "      <td>1</td>\n",
       "      <td>3605.0</td>\n",
       "      <td>29226.951739</td>\n",
       "      <td>3108.891222</td>\n",
       "      <td>30343.451753</td>\n",
       "      <td>EMEA</td>\n",
       "    </tr>\n",
       "    <tr>\n",
       "      <th>15</th>\n",
       "      <td>CT51</td>\n",
       "      <td>France</td>\n",
       "      <td>2020.11</td>\n",
       "      <td>EMEA GLASS</td>\n",
       "      <td>CD-France-Glass</td>\n",
       "      <td>648.034048</td>\n",
       "      <td>CD-FR-GLAS</td>\n",
       "      <td>EMEA</td>\n",
       "      <td>664.0</td>\n",
       "      <td>TOMATO</td>\n",
       "      <td>...</td>\n",
       "      <td>EMEA GLASS</td>\n",
       "      <td>3537.641988</td>\n",
       "      <td>18776.814342</td>\n",
       "      <td>NaN</td>\n",
       "      <td>1</td>\n",
       "      <td>3354.0</td>\n",
       "      <td>15239.172354</td>\n",
       "      <td>2568.052586</td>\n",
       "      <td>16208.761756</td>\n",
       "      <td>EMEA</td>\n",
       "    </tr>\n",
       "    <tr>\n",
       "      <th>16</th>\n",
       "      <td>CT52</td>\n",
       "      <td>Netherlands</td>\n",
       "      <td>2022.03</td>\n",
       "      <td>NW OPEN FIELD</td>\n",
       "      <td>CD-Netherlands-Openf</td>\n",
       "      <td>1617.181782</td>\n",
       "      <td>CD-NL-OPEN</td>\n",
       "      <td>EMEA</td>\n",
       "      <td>669.0</td>\n",
       "      <td>BROCCOLI</td>\n",
       "      <td>...</td>\n",
       "      <td>NW OPEN FIELD</td>\n",
       "      <td>1268.575193</td>\n",
       "      <td>11617.336425</td>\n",
       "      <td>NaN</td>\n",
       "      <td>1</td>\n",
       "      <td>3605.0</td>\n",
       "      <td>10348.761232</td>\n",
       "      <td>1944.798811</td>\n",
       "      <td>9672.537614</td>\n",
       "      <td>EMEA</td>\n",
       "    </tr>\n",
       "    <tr>\n",
       "      <th>17</th>\n",
       "      <td>CTX1</td>\n",
       "      <td>Undef EMEA</td>\n",
       "      <td>2022.07</td>\n",
       "      <td>UNDEF EMEA</td>\n",
       "      <td>CD-Undef EMEA</td>\n",
       "      <td>117.693763</td>\n",
       "      <td>CD-X1</td>\n",
       "      <td>EMEA</td>\n",
       "      <td>911.0</td>\n",
       "      <td>PEA</td>\n",
       "      <td>...</td>\n",
       "      <td>UNDEF EMEA</td>\n",
       "      <td>4214.255431</td>\n",
       "      <td>31100.615858</td>\n",
       "      <td>NaN</td>\n",
       "      <td>1</td>\n",
       "      <td>3605.0</td>\n",
       "      <td>26886.360426</td>\n",
       "      <td>5795.631894</td>\n",
       "      <td>25304.983964</td>\n",
       "      <td>EMEA</td>\n",
       "    </tr>\n",
       "    <tr>\n",
       "      <th>18</th>\n",
       "      <td>CT58</td>\n",
       "      <td>Türkiye</td>\n",
       "      <td>2022.08</td>\n",
       "      <td>TURKEY</td>\n",
       "      <td>CD-Turkey</td>\n",
       "      <td>287.081714</td>\n",
       "      <td>CD-TR</td>\n",
       "      <td>EMEA</td>\n",
       "      <td>604.0</td>\n",
       "      <td>OTHER VEGETABLE SEED</td>\n",
       "      <td>...</td>\n",
       "      <td>TURKEY &amp; S-CA</td>\n",
       "      <td>3161.434295</td>\n",
       "      <td>23102.563177</td>\n",
       "      <td>NaN</td>\n",
       "      <td>1</td>\n",
       "      <td>3970.0</td>\n",
       "      <td>19941.128883</td>\n",
       "      <td>3059.849960</td>\n",
       "      <td>20042.713217</td>\n",
       "      <td>EMEA</td>\n",
       "    </tr>\n",
       "    <tr>\n",
       "      <th>19</th>\n",
       "      <td>CT5</td>\n",
       "      <td>Spain</td>\n",
       "      <td>2021.02</td>\n",
       "      <td>IBERICA</td>\n",
       "      <td>CD-Spain</td>\n",
       "      <td>493.362431</td>\n",
       "      <td>CD-ES</td>\n",
       "      <td>EMEA</td>\n",
       "      <td>649.0</td>\n",
       "      <td>OTHER VEGETABLE SEED</td>\n",
       "      <td>...</td>\n",
       "      <td>IBERICA</td>\n",
       "      <td>3624.991742</td>\n",
       "      <td>28045.053937</td>\n",
       "      <td>NaN</td>\n",
       "      <td>1</td>\n",
       "      <td>3781.0</td>\n",
       "      <td>24420.062195</td>\n",
       "      <td>3886.285899</td>\n",
       "      <td>24158.768038</td>\n",
       "      <td>EMEA</td>\n",
       "    </tr>\n",
       "  </tbody>\n",
       "</table>\n",
       "<p>20 rows × 22 columns</p>\n",
       "</div>"
      ]
     },
     "execution_count": 653,
     "metadata": {},
     "output_type": "execute_result"
    }
   ],
   "execution_count": 653
  },
  {
   "cell_type": "markdown",
   "id": "8aa80931e83fd3d4",
   "metadata": {},
   "source": [
    "Rows with missing values seem random and probably are caused by human error. I'll remove them because it'll be more robust to keep the column in integer format, and do not overcomplicate it with placeholders."
   ]
  },
  {
   "cell_type": "code",
   "id": "5c07ea598807c6e1",
   "metadata": {
    "ExecuteTime": {
     "end_time": "2024-09-05T11:02:20.702786Z",
     "start_time": "2024-09-05T11:02:20.673784Z"
    }
   },
   "source": [
    "# Remove rows with missing material_number in all regions\n",
    "americas_data = americas_data.dropna(subset=['material_nbr'])\n",
    "emea_data = emea_data.dropna(subset=['material_nbr'])\n",
    "asia_data = asia_data.dropna(subset=['material_nbr'])"
   ],
   "outputs": [],
   "execution_count": 654
  },
  {
   "cell_type": "code",
   "id": "d4bbba9e6f9c982a",
   "metadata": {
    "ExecuteTime": {
     "end_time": "2024-09-05T11:02:20.814791Z",
     "start_time": "2024-09-05T11:02:20.807803Z"
    }
   },
   "source": [
    "# Convert material_number to integer after dropping missing rows\n",
    "americas_data['material_nbr'] = americas_data['material_nbr'].astype(int)\n",
    "emea_data['material_nbr'] = emea_data['material_nbr'].astype(int)\n",
    "asia_data['material_nbr'] = asia_data['material_nbr'].astype(int)"
   ],
   "outputs": [],
   "execution_count": 655
  },
  {
   "cell_type": "markdown",
   "id": "e9651b94-52c6-4309-a521-b05930c769e2",
   "metadata": {},
   "source": [
    "Check the data for consistency"
   ]
  },
  {
   "cell_type": "code",
   "id": "2d5256689173ccd6",
   "metadata": {
    "ExecuteTime": {
     "end_time": "2024-09-05T11:02:20.924327Z",
     "start_time": "2024-09-05T11:02:20.898330Z"
    }
   },
   "source": [
    "# Check the date formats in 'Period'\n",
    "print('Unique period values in Americas Data:')\n",
    "print(americas_data['period'].unique())\n",
    "\n",
    "print('\\nUnique period values in EMEA Data:')\n",
    "print(emea_data['period'].unique())\n",
    "\n",
    "print('\\nUnique period values in Asia Data:')\n",
    "print(asia_data['period'].unique())\n",
    "\n",
    "print('\\nUnique period values in Forecast Data:')\n",
    "print(forecast_data['year'].unique())"
   ],
   "outputs": [
    {
     "name": "stdout",
     "output_type": "stream",
     "text": [
      "Unique period values in Americas Data:\n",
      "[2020 2022 2021]\n",
      "\n",
      "Unique period values in EMEA Data:\n",
      "[2021.03 2021.04 2022.07 2022.09 2021.08 2021.1  2021.01 2020.03 2021.02\n",
      " 2020.01 2022.05 2022.04 2020.04 2020.02 2020.12 2020.11 2020.05 2021.07\n",
      " 2022.02 2020.06 2020.08 2021.12 2020.1  2021.09 2022.12 2022.08 2021.06\n",
      " 2020.09 2022.03 2022.06 2022.11 2020.07 2022.01 2021.11 2021.05 2022.1 ]\n",
      "\n",
      "Unique period values in Asia Data:\n",
      "[2020.1  2020.01 2020.04 2020.05 2020.06 2020.11 2020.02 2020.03 2020.12\n",
      " 2020.07 2020.08 2020.09 2021.02 2021.04 2021.06 2021.12 2021.11 2021.03\n",
      " 2021.08 2021.01 2021.1  2021.05 2021.07 2021.09 2022.1  2022.12 2022.01\n",
      " 2022.04 2022.08 2022.03 2022.07 2022.09 2022.06 2022.02 2022.05 2022.11]\n",
      "\n",
      "Unique period values in Forecast Data:\n",
      "[2022 2020 2021]\n"
     ]
    }
   ],
   "execution_count": 656
  },
  {
   "cell_type": "code",
   "id": "c05def5cd4d0ac01",
   "metadata": {
    "ExecuteTime": {
     "end_time": "2024-09-05T11:02:21.111324Z",
     "start_time": "2024-09-05T11:02:21.025335Z"
    }
   },
   "source": [
    "# Fix date format\n",
    "americas_data['period'] = americas_data['period'].astype(str) + '.01'\n",
    "emea_data['period'] = emea_data['period'].apply(lambda x: f\"{str(x).split('.')[0]}.{str(x).split('.')[1].zfill(2)}\")\n",
    "asia_data['period'] = asia_data['period'].apply(lambda x: f\"{str(x).split('.')[0]}.{str(x).split('.')[1].zfill(2)}\")\n",
    "forecast_data['year'] = forecast_data['year'].astype(str) + '.01'\n",
    "\n",
    "# Check the date formats in 'Period'\n",
    "print('Unique period values in Americas Data:')\n",
    "print(americas_data['period'].unique())\n",
    "\n",
    "print('\\nUnique period values in EMEA Data:')\n",
    "print(emea_data['period'].unique())\n",
    "\n",
    "print('\\nUnique period values in Asia Data:')\n",
    "print(asia_data['period'].unique())\n",
    "\n",
    "print('\\nUnique period values in Forecast Data:')\n",
    "print(forecast_data['year'].unique())"
   ],
   "outputs": [
    {
     "name": "stdout",
     "output_type": "stream",
     "text": [
      "Unique period values in Americas Data:\n",
      "['2020.01' '2022.01' '2021.01']\n",
      "\n",
      "Unique period values in EMEA Data:\n",
      "['2021.03' '2021.04' '2022.07' '2022.09' '2021.08' '2021.01' '2020.03'\n",
      " '2021.02' '2020.01' '2022.05' '2022.04' '2020.04' '2020.02' '2020.12'\n",
      " '2020.11' '2020.05' '2021.07' '2022.02' '2020.06' '2020.08' '2021.12'\n",
      " '2021.09' '2022.12' '2022.08' '2021.06' '2020.09' '2022.03' '2022.06'\n",
      " '2022.11' '2020.07' '2022.01' '2021.11' '2021.05']\n",
      "\n",
      "Unique period values in Asia Data:\n",
      "['2020.01' '2020.04' '2020.05' '2020.06' '2020.11' '2020.02' '2020.03'\n",
      " '2020.12' '2020.07' '2020.08' '2020.09' '2021.02' '2021.04' '2021.06'\n",
      " '2021.12' '2021.11' '2021.03' '2021.08' '2021.01' '2021.05' '2021.07'\n",
      " '2021.09' '2022.01' '2022.12' '2022.04' '2022.08' '2022.03' '2022.07'\n",
      " '2022.09' '2022.06' '2022.02' '2022.05' '2022.11']\n",
      "\n",
      "Unique period values in Forecast Data:\n",
      "['2022.01' '2020.01' '2021.01']\n"
     ]
    }
   ],
   "execution_count": 657
  },
  {
   "cell_type": "code",
   "id": "18ff741e34d8fade",
   "metadata": {
    "ExecuteTime": {
     "end_time": "2024-09-05T11:02:21.270669Z",
     "start_time": "2024-09-05T11:02:21.225323Z"
    }
   },
   "source": [
    "# Convert to datetime format and check\n",
    "americas_data['period'] = pd.to_datetime(americas_data['period'], format='%Y.%m')\n",
    "print('Americas data:', americas_data['period'])\n",
    "\n",
    "emea_data['period'] = pd.to_datetime(emea_data['period'], format='%Y.%m')\n",
    "print('EMEA data:', emea_data['period'])\n",
    "\n",
    "asia_data['period'] = pd.to_datetime(asia_data['period'], format='%Y.%m')\n",
    "print('Asia data:', asia_data['period'])\n",
    "\n",
    "forecast_data['year'] = pd.to_datetime(forecast_data['year'], format='%Y.%m')\n",
    "print('Forecast data:', forecast_data['year'])"
   ],
   "outputs": [
    {
     "name": "stdout",
     "output_type": "stream",
     "text": [
      "Americas data: 0      2020-01-01\n",
      "1      2022-01-01\n",
      "2      2021-01-01\n",
      "3      2021-01-01\n",
      "21     2022-01-01\n",
      "          ...    \n",
      "3712   2021-01-01\n",
      "3713   2021-01-01\n",
      "3714   2021-01-01\n",
      "3715   2022-01-01\n",
      "3716   2021-01-01\n",
      "Name: period, Length: 3613, dtype: datetime64[ns]\n",
      "EMEA data: 102    2021-03-01\n",
      "119    2021-04-01\n",
      "206    2022-07-01\n",
      "291    2022-09-01\n",
      "353    2021-08-01\n",
      "          ...    \n",
      "5702   2022-01-01\n",
      "5703   2020-03-01\n",
      "5704   2021-02-01\n",
      "5705   2020-12-01\n",
      "5706   2021-01-01\n",
      "Name: period, Length: 5358, dtype: datetime64[ns]\n",
      "Asia data: 0      2020-01-01\n",
      "3      2020-01-01\n",
      "4      2020-04-01\n",
      "5      2020-05-01\n",
      "6      2020-06-01\n",
      "          ...    \n",
      "7398   2022-09-01\n",
      "7399   2022-09-01\n",
      "7400   2022-07-01\n",
      "7401   2022-09-01\n",
      "7402   2022-02-01\n",
      "Name: period, Length: 7256, dtype: datetime64[ns]\n",
      "Forecast data: 0        2022-01-01\n",
      "1        2022-01-01\n",
      "2        2022-01-01\n",
      "3        2022-01-01\n",
      "4        2022-01-01\n",
      "            ...    \n",
      "128521   2021-01-01\n",
      "128522   2021-01-01\n",
      "128523   2021-01-01\n",
      "128524   2021-01-01\n",
      "128525   2021-01-01\n",
      "Name: year, Length: 128526, dtype: datetime64[ns]\n"
     ]
    }
   ],
   "execution_count": 658
  },
  {
   "cell_type": "code",
   "id": "dd7a147ed6e8fb41",
   "metadata": {
    "ExecuteTime": {
     "end_time": "2024-09-05T11:02:21.380672Z",
     "start_time": "2024-09-05T11:02:21.367669Z"
    }
   },
   "source": [
    "# Check the country names for consistency\n",
    "print('Unique country names in Americas Data:')\n",
    "print(sorted(americas_data['commercial_country_name'].unique()))\n",
    "\n",
    "print('\\nUnique country names in EMEA Data:')\n",
    "print(sorted(emea_data['commercial_country_name'].unique()))\n",
    "\n",
    "print('\\nUnique country names in Asia Data:')\n",
    "print(sorted(asia_data['commercial_country_name'].unique()))\n",
    "\n",
    "print('\\nUnique country names in Forecast Data:')\n",
    "print(sorted(forecast_data['cmrcl_cntry_dsc'].unique()))"
   ],
   "outputs": [
    {
     "name": "stdout",
     "output_type": "stream",
     "text": [
      "Unique country names in Americas Data:\n",
      "['Argentina', 'Bolivia', 'Brazil', 'Canada', 'Canadá', 'Chile', 'Colombia', 'Costa Rica', 'Dominican Rep.', 'Ecuador', 'Ecuator', 'El Salvador', 'Guatemala', 'Honduras', 'Jamaica', 'Japan', 'Mexico', 'Nicaragua', 'Panama', 'Paraguay', 'Peru', 'Trinidad,Tobago', 'USA', 'Uruguay', 'Venezuela']\n",
      "\n",
      "Unique country names in EMEA Data:\n",
      "['Albania', 'Algeria', 'Armenia', 'Azerbaijan', 'Bahrain', 'Belarus', 'Benin', 'Bosnia-Herz.', 'Bulgaria', 'Burundi', 'Congo Democr. R', 'Croatia', 'Cyprus', 'Egypt', 'Ethiopia', 'France', 'Georgia', 'Germany', 'Ghana', 'Greece', 'Hungary', 'Iran', 'Iraq', 'Israel', 'Italy', 'Ivory Coast', 'Jordan', 'Kazakhstan', 'Kenya', 'Kuwait', 'Lebanon', 'Libya', 'Moldova,Rep. of', 'Morocco', 'Netherlands', 'Niger', 'Nigeria', 'North Macedonia', 'Oman', 'Palestinian Ter', 'Poland', 'Portugal', 'Qatar', 'Rep. of Belarus', 'Romania', 'Russian Fed.', 'Saudi Arabia', 'Senegal', 'Serbia', 'Slovakia', 'Slovenia', 'South Africa', 'Spain', 'Sweden', 'Syria', 'Tanzania', 'Togo', 'Tunisia', 'Türkiye', 'Uganda', 'Ukraine', 'Unit.Arab Emir.', 'United Kingdom', 'Uzbekistan', 'Yemen']\n",
      "\n",
      "Unique country names in Asia Data:\n",
      "['Australia', 'Bangladesh', 'China', 'India', 'Japan', 'Nepal', 'New Zealand', 'Pakistan', 'Philippines', 'South Korea', 'Taiwan', 'Thailand', 'Undefined', 'Vietnam']\n",
      "\n",
      "Unique country names in Forecast Data:\n",
      "['Albania', 'Algeria', 'Angola', 'Antigua/Barbuda', 'Argentina', 'Armenia', 'Australia', 'Azerbaijan', 'Bahrain', 'Bangladesh', 'Belize', 'Benin', 'Bolivia', 'Bosnia-Herz.', 'Botswana', 'Brazil', 'Bulgaria', 'Burkina Faso', 'Burundi', 'Cameroon', 'Canada', 'Chad', 'Chile', 'China', 'Colombia', 'Congo Democr. R', 'Costa Rica', 'Croatia', 'Cyprus', 'Dominican Rep.', 'Dutch Antilles', 'Ecuador', 'Egypt', 'El Salvador', 'Ethiopia', 'France', 'Georgia', 'Germany', 'Ghana', 'Greece', 'Guadeloupe', 'Guatemala', 'Haiti', 'Honduras', 'Hungary', 'India', 'Indonesia', 'Iran', 'Iraq', 'Israel', 'Italy', 'Ivory Coast', 'Jamaica', 'Japan', 'Jordan', 'Kazakhstan', 'Kenya', 'Kosovo', 'Kuwait', 'Kyrgyzstan', 'Lebanon', 'Libya', 'Madagascar', 'Malaysia', 'Mali', 'Martinique', 'Mexico', 'Moldova,Rep. of', 'Morocco', 'Mozambique', 'Myanmar', 'Nepal', 'Netherlands', 'New Zealand', 'Nicaragua', 'Niger', 'Nigeria', 'North Macedonia', 'Oman', 'Pakistan', 'Palestinian Ter', 'Panama', 'Paraguay', 'Peru', 'Philippines', 'Poland', 'Portugal', 'Qatar', 'Rep. of Belarus', 'Romania', 'Russian Fed.', 'Rwanda', 'Saudi Arabia', 'Senegal', 'Serbia', 'Slovakia', 'Slovenia', 'South Africa', 'South Korea', 'Spain', 'Sri Lanka', 'Sudan', 'Sweden', 'Syria', 'Taiwan', 'Tanzania', 'Thailand', 'Togo', 'Trinidad,Tobago', 'Tunisia', 'Turkmenistan', 'Türkiye', 'USA', 'Uganda', 'Ukraine', 'Unit.Arab Emir.', 'United Kingdom', 'Uruguay', 'Uzbekistan', 'Venezuela', 'Vietnam', 'Yemen', 'Zambia', 'Zimbabwe']\n"
     ]
    }
   ],
   "execution_count": 659
  },
  {
   "cell_type": "code",
   "id": "13df964f-682e-4cc9-8b75-f4ee44b3e131",
   "metadata": {
    "ExecuteTime": {
     "end_time": "2024-09-05T11:02:21.522340Z",
     "start_time": "2024-09-05T11:02:21.477672Z"
    }
   },
   "source": [
    "# Map differently spelled values\n",
    "country_name_mapping = {\n",
    "    'Canadá': 'Canada',\n",
    "    'México': 'Mexico',\n",
    "    'Brasil': 'Brazil',\n",
    "    'UK': 'United Kingdom',\n",
    "    'U.S.A': 'United States',\n",
    "    'Estados Unidos': 'United States',\n",
    "    'España': 'Spain',\n",
    "    'Türkiye': 'Turkey'\n",
    "}\n",
    "\n",
    "americas_data['commercial_country_name'] = americas_data['commercial_country_name'].replace(country_name_mapping)\n",
    "emea_data['commercial_country_name'] = emea_data['commercial_country_name'].replace(country_name_mapping)\n",
    "asia_data['commercial_country_name'] = asia_data['commercial_country_name'].replace(country_name_mapping)\n",
    "forecast_data['cmrcl_cntry_dsc'] = forecast_data['cmrcl_cntry_dsc'].replace(country_name_mapping)"
   ],
   "outputs": [],
   "execution_count": 660
  },
  {
   "cell_type": "code",
   "id": "8856c51c-8c63-4409-9f54-0ded3e82bf46",
   "metadata": {
    "ExecuteTime": {
     "end_time": "2024-09-05T11:02:21.631348Z",
     "start_time": "2024-09-05T11:02:21.618353Z"
    }
   },
   "source": [
    "# Check crop field for consistency\n",
    "print('Unique crop names in Americas Data:')\n",
    "print(sorted(americas_data['crop'].unique()))\n",
    "\n",
    "print('\\nUnique crop names in EMEA Data:')\n",
    "print(sorted(emea_data['crop'].unique()))\n",
    "\n",
    "print('\\nUnique crop names in Asia Data:')\n",
    "print(sorted(asia_data['crop'].unique()))"
   ],
   "outputs": [
    {
     "name": "stdout",
     "output_type": "stream",
     "text": [
      "Unique crop names in Americas Data:\n",
      "['BEAN, DRY', 'BEAN, GARDEN', 'BROCCOLI', 'CABBAGE', 'CARROT', 'CAULIFLOWER', 'CUCUMBER', 'EGGPLANT', 'LETTUCE', 'MELON', 'ONION', 'OTHER VEGETABLE SEED', 'PEPPER', 'SPINACH', 'SQUASH', 'SWEET CORN', 'TOMATO', 'WATERMELON']\n",
      "\n",
      "Unique crop names in EMEA Data:\n",
      "['BEAN, GARDEN', 'BROCCOLI', 'CABBAGE', 'CARROT', 'CAULIFLOWER', 'CUCUMBER', 'EGGPLANT', 'FENNEL', 'LEEK', 'LETTUCE', 'MELON', 'ONION', 'OTHER VEGETABLE SEED', 'PEA', 'PEPPER', 'SPINACH', 'SQUASH', 'SWEET CORN', 'TOMATO', 'WATERMELON']\n",
      "\n",
      "Unique crop names in Asia Data:\n",
      "['BEAN, GARDEN', 'BROCCOLI', 'CABBAGE', 'CARROT', 'CAULIFLOWER', 'CUCUMBER', 'EGGPLANT', 'GOURD', 'LEEK', 'LETTUCE', 'MELON', 'OKRA', 'ONION', 'OTHER VEGETABLE SEED', 'PEA', 'PEPPER', 'RADISH', 'SPINACH', 'SQUASH', 'SWEET CORN', 'TOMATO', 'WATERMELON']\n"
     ]
    }
   ],
   "execution_count": 661
  },
  {
   "cell_type": "markdown",
   "id": "87d520b6-b912-4651-9a11-32e24076f0da",
   "metadata": {},
   "source": [
    "Crop names are consistent"
   ]
  },
  {
   "cell_type": "code",
   "id": "72c982c1ec16bf0e",
   "metadata": {
    "ExecuteTime": {
     "end_time": "2024-09-05T11:02:21.756348Z",
     "start_time": "2024-09-05T11:02:21.727351Z"
    }
   },
   "source": [
    "# Combine all region's sales into one dataframe\n",
    "combined_sales = pd.concat([americas_data, emea_data, asia_data], axis=0, ignore_index=True)\n",
    "print('Combined sales data:', combined_sales.head())"
   ],
   "outputs": [
    {
     "name": "stdout",
     "output_type": "stream",
     "text": [
      "Combined sales data:      surcharge  material_nbr     period  commercial_sales_territory_code  \\\n",
      "0  5053.311857      11947192 2020-01-01                            923.0   \n",
      "1  3744.609416      12502640 2022-01-01                            923.0   \n",
      "2  2346.913894      11947192 2021-01-01                            923.0   \n",
      "3  3507.780298      12515444 2021-01-01                            921.0   \n",
      "4  4209.321190      10762610 2022-01-01                            921.0   \n",
      "\n",
      "       net_qty commercial_team commercial_subregion_desc  company_code  \\\n",
      "0   631.691689            CT13                  UNDEF CA        1318.0   \n",
      "1    24.500444            CT13                  UNDEF CA        1318.0   \n",
      "2  1198.988892            CT13                  UNDEF CA        1318.0   \n",
      "3   314.982145            CT13                  UNDEF US        3605.0   \n",
      "4   165.566886            CT13                  UNDEF US        3605.0   \n",
      "\n",
      "  commercial_district_description commercial_area_description  ...  \\\n",
      "0                       CD-Canada                   US and CA  ...   \n",
      "1                       CD-Canada                       US&CA  ...   \n",
      "2                       CD-Canada                   US and CA  ...   \n",
      "3                          CD-USA                   US and CA  ...   \n",
      "4                          CD-USA                       US&CA  ...   \n",
      "\n",
      "  commercial_district   gross_sales region_code  region_description  \\\n",
      "0               CD-CA  31513.949780           2                 NAM   \n",
      "1               CD-CA  26158.507145           2                 NAM   \n",
      "2               CD-CA  26782.343203           2                 NAM   \n",
      "3               CD-US  25154.177859           2                 NAM   \n",
      "4               CD-US  31347.950976           2                 NAM   \n",
      "\n",
      "         crop commercial_team_description    base_sales     discount  \\\n",
      "0      TOMATO                       US&CA  26460.637923  3934.715024   \n",
      "1  SWEET CORN                       US&CA  22413.897730  4424.709552   \n",
      "2      TOMATO                       US&CA  24435.429310  4804.535337   \n",
      "3      TOMATO                       US&CA  21646.397561  4503.714706   \n",
      "4    CUCUMBER                       US&CA  27138.629786  2218.186661   \n",
      "\n",
      "      net_sales    region  \n",
      "0  27579.234756  Americas  \n",
      "1  21733.797594  Americas  \n",
      "2  21977.807866  Americas  \n",
      "3  20650.463153  Americas  \n",
      "4  29129.764315  Americas  \n",
      "\n",
      "[5 rows x 22 columns]\n"
     ]
    }
   ],
   "execution_count": 662
  },
  {
   "cell_type": "markdown",
   "id": "9e7d37c7-152f-44b8-af40-a4a4a7b4f82d",
   "metadata": {},
   "source": [
    "## 4. Data Quality and Integrity Checks"
   ]
  },
  {
   "cell_type": "code",
   "id": "3e6b3464f543a32e",
   "metadata": {
    "ExecuteTime": {
     "end_time": "2024-09-05T11:02:21.882350Z",
     "start_time": "2024-09-05T11:02:21.853354Z"
    }
   },
   "source": [
    "# Overview for missing values and data types in combined sales\n",
    "combined_sales.info()"
   ],
   "outputs": [
    {
     "name": "stdout",
     "output_type": "stream",
     "text": [
      "<class 'pandas.core.frame.DataFrame'>\n",
      "RangeIndex: 16227 entries, 0 to 16226\n",
      "Data columns (total 22 columns):\n",
      " #   Column                           Non-Null Count  Dtype         \n",
      "---  ------                           --------------  -----         \n",
      " 0   surcharge                        16227 non-null  float64       \n",
      " 1   material_nbr                     16227 non-null  int64         \n",
      " 2   period                           16227 non-null  datetime64[ns]\n",
      " 3   commercial_sales_territory_code  16227 non-null  float64       \n",
      " 4   net_qty                          16227 non-null  float64       \n",
      " 5   commercial_team                  16227 non-null  object        \n",
      " 6   commercial_subregion_desc        16227 non-null  object        \n",
      " 7   company_code                     16227 non-null  float64       \n",
      " 8   commercial_district_description  16227 non-null  object        \n",
      " 9   commercial_area_description      16227 non-null  object        \n",
      " 10  commercial_country_name          16227 non-null  object        \n",
      " 11  commercial_area_code             16227 non-null  object        \n",
      " 12  commercial_district              16227 non-null  object        \n",
      " 13  gross_sales                      16227 non-null  float64       \n",
      " 14  region_code                      16227 non-null  int64         \n",
      " 15  region_description               16227 non-null  object        \n",
      " 16  crop                             16227 non-null  object        \n",
      " 17  commercial_team_description      16227 non-null  object        \n",
      " 18  base_sales                       16227 non-null  float64       \n",
      " 19  discount                         16227 non-null  float64       \n",
      " 20  net_sales                        16227 non-null  float64       \n",
      " 21  region                           16227 non-null  object        \n",
      "dtypes: datetime64[ns](1), float64(8), int64(2), object(11)\n",
      "memory usage: 2.7+ MB\n"
     ]
    }
   ],
   "execution_count": 663
  },
  {
   "cell_type": "markdown",
   "id": "d7b45794-d797-4f2d-a307-3280765a3115",
   "metadata": {},
   "source": [
    "- Missing values - not found\n",
    "- Data types - correct"
   ]
  },
  {
   "cell_type": "code",
   "id": "e9976246-4aa3-4634-a1cd-9e65ac2890f4",
   "metadata": {
    "ExecuteTime": {
     "end_time": "2024-09-05T11:02:22.024261Z",
     "start_time": "2024-09-05T11:02:21.979307Z"
    }
   },
   "source": [
    "# Overview for missing values and data types in forecast data\n",
    "forecast_data.info()"
   ],
   "outputs": [
    {
     "name": "stdout",
     "output_type": "stream",
     "text": [
      "<class 'pandas.core.frame.DataFrame'>\n",
      "RangeIndex: 128526 entries, 0 to 128525\n",
      "Data columns (total 9 columns):\n",
      " #   Column              Non-Null Count   Dtype         \n",
      "---  ------              --------------   -----         \n",
      " 0   material_number     128526 non-null  int64         \n",
      " 1   cmrcl_wrld_area_cd  128526 non-null  object        \n",
      " 2   cmrcl_rgn_nm        128526 non-null  object        \n",
      " 3   cmrcl_cntry_cd      128526 non-null  object        \n",
      " 4   cmrcl_cntry_dsc     128526 non-null  object        \n",
      " 5   cmrcl_subrgn_cd     128526 non-null  object        \n",
      " 6   cmrcl_subrgn_nm     128526 non-null  object        \n",
      " 7   year                128526 non-null  datetime64[ns]\n",
      " 8   forecast_val        128526 non-null  float64       \n",
      "dtypes: datetime64[ns](1), float64(1), int64(1), object(6)\n",
      "memory usage: 8.8+ MB\n"
     ]
    }
   ],
   "execution_count": 664
  },
  {
   "cell_type": "markdown",
   "id": "0d1ac8cd-3765-452c-bd84-5cecf8757ac9",
   "metadata": {},
   "source": [
    "- Missing values - not found\n",
    "- Data types - correct"
   ]
  },
  {
   "cell_type": "code",
   "id": "7c8dcb4ecf972166",
   "metadata": {
    "ExecuteTime": {
     "end_time": "2024-09-05T11:02:22.150772Z",
     "start_time": "2024-09-05T11:02:22.121995Z"
    }
   },
   "source": [
    "# Check combined sales for duplicates\n",
    "duplicates = combined_sales.duplicated().sum()\n",
    "print(f\"Duplicate rows in combined sales data: {duplicates}\")"
   ],
   "outputs": [
    {
     "name": "stdout",
     "output_type": "stream",
     "text": [
      "Duplicate rows in combined sales data: 0\n"
     ]
    }
   ],
   "execution_count": 665
  },
  {
   "cell_type": "code",
   "id": "de7e6098-185e-4fd0-b0b6-c6506b40e8b5",
   "metadata": {
    "ExecuteTime": {
     "end_time": "2024-09-05T11:02:22.310819Z",
     "start_time": "2024-09-05T11:02:22.248775Z"
    }
   },
   "source": [
    "# Check forecast data for duplicates\n",
    "duplicates = forecast_data.duplicated().sum()\n",
    "print(f\"Duplicate rows in forecast data: {duplicates}\")"
   ],
   "outputs": [
    {
     "name": "stdout",
     "output_type": "stream",
     "text": [
      "Duplicate rows in forecast data: 0\n"
     ]
    }
   ],
   "execution_count": 666
  },
  {
   "cell_type": "code",
   "id": "7c0f3b79-40a3-42d4-b515-ab1c1b390685",
   "metadata": {
    "ExecuteTime": {
     "end_time": "2024-09-05T11:02:22.420287Z",
     "start_time": "2024-09-05T11:02:22.407284Z"
    }
   },
   "source": [
    "# Check the country names in forecast data for consistency\n",
    "print('Unique country names in forecast data data:')\n",
    "print(sorted(forecast_data['cmrcl_cntry_dsc'].unique()))"
   ],
   "outputs": [
    {
     "name": "stdout",
     "output_type": "stream",
     "text": [
      "Unique country names in forecast data data:\n",
      "['Albania', 'Algeria', 'Angola', 'Antigua/Barbuda', 'Argentina', 'Armenia', 'Australia', 'Azerbaijan', 'Bahrain', 'Bangladesh', 'Belize', 'Benin', 'Bolivia', 'Bosnia-Herz.', 'Botswana', 'Brazil', 'Bulgaria', 'Burkina Faso', 'Burundi', 'Cameroon', 'Canada', 'Chad', 'Chile', 'China', 'Colombia', 'Congo Democr. R', 'Costa Rica', 'Croatia', 'Cyprus', 'Dominican Rep.', 'Dutch Antilles', 'Ecuador', 'Egypt', 'El Salvador', 'Ethiopia', 'France', 'Georgia', 'Germany', 'Ghana', 'Greece', 'Guadeloupe', 'Guatemala', 'Haiti', 'Honduras', 'Hungary', 'India', 'Indonesia', 'Iran', 'Iraq', 'Israel', 'Italy', 'Ivory Coast', 'Jamaica', 'Japan', 'Jordan', 'Kazakhstan', 'Kenya', 'Kosovo', 'Kuwait', 'Kyrgyzstan', 'Lebanon', 'Libya', 'Madagascar', 'Malaysia', 'Mali', 'Martinique', 'Mexico', 'Moldova,Rep. of', 'Morocco', 'Mozambique', 'Myanmar', 'Nepal', 'Netherlands', 'New Zealand', 'Nicaragua', 'Niger', 'Nigeria', 'North Macedonia', 'Oman', 'Pakistan', 'Palestinian Ter', 'Panama', 'Paraguay', 'Peru', 'Philippines', 'Poland', 'Portugal', 'Qatar', 'Rep. of Belarus', 'Romania', 'Russian Fed.', 'Rwanda', 'Saudi Arabia', 'Senegal', 'Serbia', 'Slovakia', 'Slovenia', 'South Africa', 'South Korea', 'Spain', 'Sri Lanka', 'Sudan', 'Sweden', 'Syria', 'Taiwan', 'Tanzania', 'Thailand', 'Togo', 'Trinidad,Tobago', 'Tunisia', 'Turkey', 'Turkmenistan', 'USA', 'Uganda', 'Ukraine', 'Unit.Arab Emir.', 'United Kingdom', 'Uruguay', 'Uzbekistan', 'Venezuela', 'Vietnam', 'Yemen', 'Zambia', 'Zimbabwe']\n"
     ]
    }
   ],
   "execution_count": 667
  },
  {
   "cell_type": "code",
   "id": "b6cb8dcd-8eb6-45bd-b212-406218b3cb1b",
   "metadata": {
    "ExecuteTime": {
     "end_time": "2024-09-05T11:02:22.531693Z",
     "start_time": "2024-09-05T11:02:22.519290Z"
    }
   },
   "source": [
    "# Check the country names in forecast date for consistency\n",
    "print('Unique country names in combined sales data:')\n",
    "print(sorted(combined_sales['commercial_country_name'].unique()))"
   ],
   "outputs": [
    {
     "name": "stdout",
     "output_type": "stream",
     "text": [
      "Unique country names in combined sales data:\n",
      "['Albania', 'Algeria', 'Argentina', 'Armenia', 'Australia', 'Azerbaijan', 'Bahrain', 'Bangladesh', 'Belarus', 'Benin', 'Bolivia', 'Bosnia-Herz.', 'Brazil', 'Bulgaria', 'Burundi', 'Canada', 'Chile', 'China', 'Colombia', 'Congo Democr. R', 'Costa Rica', 'Croatia', 'Cyprus', 'Dominican Rep.', 'Ecuador', 'Ecuator', 'Egypt', 'El Salvador', 'Ethiopia', 'France', 'Georgia', 'Germany', 'Ghana', 'Greece', 'Guatemala', 'Honduras', 'Hungary', 'India', 'Iran', 'Iraq', 'Israel', 'Italy', 'Ivory Coast', 'Jamaica', 'Japan', 'Jordan', 'Kazakhstan', 'Kenya', 'Kuwait', 'Lebanon', 'Libya', 'Mexico', 'Moldova,Rep. of', 'Morocco', 'Nepal', 'Netherlands', 'New Zealand', 'Nicaragua', 'Niger', 'Nigeria', 'North Macedonia', 'Oman', 'Pakistan', 'Palestinian Ter', 'Panama', 'Paraguay', 'Peru', 'Philippines', 'Poland', 'Portugal', 'Qatar', 'Rep. of Belarus', 'Romania', 'Russian Fed.', 'Saudi Arabia', 'Senegal', 'Serbia', 'Slovakia', 'Slovenia', 'South Africa', 'South Korea', 'Spain', 'Sweden', 'Syria', 'Taiwan', 'Tanzania', 'Thailand', 'Togo', 'Trinidad,Tobago', 'Tunisia', 'Turkey', 'USA', 'Uganda', 'Ukraine', 'Undefined', 'Unit.Arab Emir.', 'United Kingdom', 'Uruguay', 'Uzbekistan', 'Venezuela', 'Vietnam', 'Yemen']\n"
     ]
    }
   ],
   "execution_count": 668
  },
  {
   "cell_type": "markdown",
   "id": "83efe9fb-7444-4774-8468-896f55133e1d",
   "metadata": {},
   "source": [
    "Date format was checked previously"
   ]
  },
  {
   "cell_type": "markdown",
   "id": "adec9f9bec284564",
   "metadata": {},
   "source": [
    "## 5. Database Schema"
   ]
  },
  {
   "cell_type": "markdown",
   "id": "0b384582-7661-4c70-a624-ac6a018a75d8",
   "metadata": {},
   "source": [
    "Logical DB schema is pictured below"
   ]
  },
  {
   "metadata": {},
   "cell_type": "markdown",
   "source": "![Sales and Forecast Data Schema](./sales_forecast.drawio.png)",
   "id": "22d7ed23-67d3-4beb-8fd8-256b62f21965"
  },
  {
   "cell_type": "markdown",
   "id": "36579072056bb60c",
   "metadata": {},
   "source": [
    "Create a database and load sales and forecast data into it. For simplicity I didn't include all sales columns in the diagram, only the most importnant once. Also, tables don't have primary keys, but I put there columns that I use to create a composite primary key for join.\n",
    "There will be 2 tables: monthly sales and yearly sales aggregation with forecast."
   ]
  },
  {
   "cell_type": "code",
   "id": "f4e9c40a9921e7e4",
   "metadata": {
    "ExecuteTime": {
     "end_time": "2024-09-05T11:02:22.639700Z",
     "start_time": "2024-09-05T11:02:22.626697Z"
    }
   },
   "source": [
    "import sqlite3"
   ],
   "outputs": [],
   "execution_count": 669
  },
  {
   "cell_type": "code",
   "id": "3f8629edb4b0d416",
   "metadata": {
    "ExecuteTime": {
     "end_time": "2024-09-05T11:02:22.746760Z",
     "start_time": "2024-09-05T11:02:22.734696Z"
    }
   },
   "source": [
    "# Create a connection to the SQLite database\n",
    "conn = sqlite3.connect('sales_forecast.db')\n",
    "\n",
    "# Create a cursor object\n",
    "cursor = conn.cursor()"
   ],
   "outputs": [],
   "execution_count": 670
  },
  {
   "cell_type": "code",
   "id": "5fa0a6ffdb68f710",
   "metadata": {
    "ExecuteTime": {
     "end_time": "2024-09-05T11:02:23.521914Z",
     "start_time": "2024-09-05T11:02:22.825797Z"
    }
   },
   "source": [
    "combined_sales.to_sql('combined_sales', conn, if_exists='replace', index=False)\n",
    "\n",
    "forecast_data.to_sql('forecast_data', conn, if_exists='replace', index=False)"
   ],
   "outputs": [
    {
     "data": {
      "text/plain": [
       "128526"
      ]
     },
     "execution_count": 671,
     "metadata": {},
     "output_type": "execute_result"
    }
   ],
   "execution_count": 671
  },
  {
   "metadata": {
    "ExecuteTime": {
     "end_time": "2024-09-05T11:02:23.629906Z",
     "start_time": "2024-09-05T11:02:23.620911Z"
    }
   },
   "cell_type": "code",
   "source": [
    "monthly_sales_query = \"\"\"\n",
    "SELECT \n",
    "    date(period) AS period,\n",
    "    material_nbr AS material_number,\n",
    "    commercial_country_name AS country,\n",
    "    region,\n",
    "    region_description,\n",
    "    crop,\n",
    "    net_sales,\n",
    "    gross_sales,\n",
    "    base_sales,\n",
    "    surcharge,\n",
    "    discount,\n",
    "    net_qty,\n",
    "    commercial_team,\n",
    "    company_code,\n",
    "    commercial_team_description\n",
    "FROM combined_sales\n",
    "\"\"\""
   ],
   "id": "220c067420cf2b7b",
   "outputs": [],
   "execution_count": 672
  },
  {
   "metadata": {
    "ExecuteTime": {
     "end_time": "2024-09-05T11:02:24.019908Z",
     "start_time": "2024-09-05T11:02:23.738907Z"
    }
   },
   "cell_type": "code",
   "source": [
    "# Execute query and save to CSV. Note: Americas data is yearly due to the source.\n",
    "monthly_sales_data = pd.read_sql_query(monthly_sales_query, conn)\n",
    "monthly_sales_data.to_csv('monthly_sales_data.csv', index=False)"
   ],
   "id": "14388590cb66357b",
   "outputs": [],
   "execution_count": 673
  },
  {
   "metadata": {
    "ExecuteTime": {
     "end_time": "2024-09-05T11:02:24.125906Z",
     "start_time": "2024-09-05T11:02:24.112908Z"
    }
   },
   "cell_type": "code",
   "source": [
    "# Query for aggregated sales data joined with forecast data\n",
    "yearly_sales_forecast_query = \"\"\"\n",
    "SELECT\n",
    "    strftime('%Y', period) AS year,\n",
    "    material_nbr AS material_number,\n",
    "    commercial_country_name AS country,\n",
    "    region,\n",
    "    commercial_team,\n",
    "    company_code,\n",
    "    commercial_team_description,\n",
    "    crop,\n",
    "    region_description,\n",
    "    SUM(net_sales) AS yearly_net_sales,\n",
    "    SUM(gross_sales) AS yearly_gross_sales,\n",
    "    SUM(base_sales) AS yearly_base_sales,\n",
    "    SUM(surcharge) AS yearly_surcharge,\n",
    "    SUM(discount) AS yearly_discount,\n",
    "    SUM(net_qty) AS yearly_net_qty,\n",
    "    forecast_val AS forecasted_sales\n",
    "FROM\n",
    "    combined_sales\n",
    "LEFT JOIN\n",
    "    forecast_data\n",
    "ON\n",
    "    combined_sales.material_nbr = forecast_data.material_number\n",
    "    AND strftime('%Y', combined_sales.period) = strftime('%Y', forecast_data.year)\n",
    "    AND combined_sales.commercial_country_name = forecast_data.cmrcl_cntry_dsc\n",
    "    AND combined_sales.commercial_subregion_desc = forecast_data.cmrcl_subrgn_nm\n",
    "GROUP BY\n",
    "    1,2,3,4,5,6,7,8,9\n",
    "\"\"\""
   ],
   "id": "625842670e847ba7",
   "outputs": [],
   "execution_count": 674
  },
  {
   "metadata": {
    "ExecuteTime": {
     "end_time": "2024-09-05T11:02:25.483908Z",
     "start_time": "2024-09-05T11:02:24.220909Z"
    }
   },
   "cell_type": "code",
   "source": [
    "# Execute query and save to CSV\n",
    "yearly_sales_forecast_data = pd.read_sql_query(yearly_sales_forecast_query, conn)\n",
    "yearly_sales_forecast_data.to_csv('yearly_sales_forecast.csv', index=False)"
   ],
   "id": "4f407c20b97e782",
   "outputs": [],
   "execution_count": 675
  },
  {
   "cell_type": "code",
   "id": "4c2934fcb5fd1814",
   "metadata": {
    "ExecuteTime": {
     "end_time": "2024-09-05T11:02:25.593910Z",
     "start_time": "2024-09-05T11:02:25.580910Z"
    }
   },
   "source": [
    "conn.commit()\n",
    "conn.close()"
   ],
   "outputs": [],
   "execution_count": 676
  },
  {
   "cell_type": "markdown",
   "id": "8563c785-41c6-4299-a31c-64fe930e7ac2",
   "metadata": {
    "ExecuteTime": {
     "end_time": "2024-09-02T20:18:00.224515Z",
     "start_time": "2024-09-02T20:18:00.210516Z"
    }
   },
   "source": [
    "## 5. Known issues and potential improvements\n",
    "- In americas_data and forecast_data, I converted years to full dates, which might be misleading in the context of the analysis\n",
    "- Approximately 3.5% of Net Sales were lost due to the removal of rows with missing material numbers. While these rows could be further investigated using plots, the most effective solution would be to address this issue at the data source\n",
    "- Implementing a proper ETL  process with distinct layers for raw data, cleaned and transformed data, and a curated datamart would be beneficial. For this project, I performed transformations upfront for simplicity, but using a star schema with separate dimension tables would be a good approache to reduce redundancy\n",
    "- To improve sustainability, instead of cleaning country names in the sales data, it's better to use country codes and store names and additional information in a separate table\n",
    "- Column naming across all tables could be improved for better clarity and consistency\n",
    "- Some numerical columns, like commercial_sales_territory_code, could be converted from float64 to integers for better performance"
   ]
  },
  {
   "cell_type": "code",
   "id": "ad449bd5-fbf3-4613-94f6-680a2e2430c5",
   "metadata": {
    "ExecuteTime": {
     "end_time": "2024-09-05T11:02:25.701906Z",
     "start_time": "2024-09-05T11:02:25.687910Z"
    }
   },
   "source": [],
   "outputs": [],
   "execution_count": null
  }
 ],
 "metadata": {
  "kernelspec": {
   "display_name": "Python 3 (ipykernel)",
   "language": "python",
   "name": "python3"
  },
  "language_info": {
   "codemirror_mode": {
    "name": "ipython",
    "version": 3
   },
   "file_extension": ".py",
   "mimetype": "text/x-python",
   "name": "python",
   "nbconvert_exporter": "python",
   "pygments_lexer": "ipython3",
   "version": "3.9.5"
  }
 },
 "nbformat": 4,
 "nbformat_minor": 5
}
